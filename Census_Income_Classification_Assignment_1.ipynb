{
  "cells": [
    {
      "cell_type": "code",
      "execution_count": 1040,
      "metadata": {
        "id": "egi2GDoASSMN"
      },
      "outputs": [],
      "source": [
        "import pandas as pd\n",
        "import numpy as np\n",
        "import seaborn as sns\n",
        "import matplotlib.pyplot as plt\n",
        "import sklearn \n",
        "%matplotlib inline\n",
        "import warnings \n",
        "warnings.filterwarnings('ignore')"
      ]
    },
    {
      "cell_type": "markdown",
      "source": [
        "# Loading the dataset (adult.data)"
      ],
      "metadata": {
        "id": "Ilrs0qOR7519"
      }
    },
    {
      "cell_type": "code",
      "execution_count": 1041,
      "metadata": {
        "id": "dKkB1CG5xdtT"
      },
      "outputs": [],
      "source": [
        "url = 'https://archive.ics.uci.edu/ml/machine-learning-databases/adult/adult.data'\n",
        "columns = ['age', 'workclass', 'fnlwgt', 'education', 'education-num', 'marital-status', 'occupation', 'relationship', 'race', 'sex', 'capital-gain', 'capital-loss', 'hours-per-week', 'native-country', 'income']\n",
        "census_df = pd.read_csv(url, names=columns, sep=',\\s+')"
      ]
    },
    {
      "cell_type": "code",
      "execution_count": 1042,
      "metadata": {
        "colab": {
          "base_uri": "https://localhost:8080/"
        },
        "id": "wgt5N4XtyiYy",
        "outputId": "14719fce-3191-43d3-d1b3-cbcc1282590c"
      },
      "outputs": [
        {
          "output_type": "stream",
          "name": "stdout",
          "text": [
            "<class 'pandas.core.frame.DataFrame'>\n",
            "RangeIndex: 32561 entries, 0 to 32560\n",
            "Data columns (total 15 columns):\n",
            " #   Column          Non-Null Count  Dtype \n",
            "---  ------          --------------  ----- \n",
            " 0   age             32561 non-null  int64 \n",
            " 1   workclass       32561 non-null  object\n",
            " 2   fnlwgt          32561 non-null  int64 \n",
            " 3   education       32561 non-null  object\n",
            " 4   education-num   32561 non-null  int64 \n",
            " 5   marital-status  32561 non-null  object\n",
            " 6   occupation      32561 non-null  object\n",
            " 7   relationship    32561 non-null  object\n",
            " 8   race            32561 non-null  object\n",
            " 9   sex             32561 non-null  object\n",
            " 10  capital-gain    32561 non-null  int64 \n",
            " 11  capital-loss    32561 non-null  int64 \n",
            " 12  hours-per-week  32561 non-null  int64 \n",
            " 13  native-country  32561 non-null  object\n",
            " 14  income          32561 non-null  object\n",
            "dtypes: int64(6), object(9)\n",
            "memory usage: 3.7+ MB\n"
          ]
        }
      ],
      "source": [
        "census_df.info()"
      ]
    },
    {
      "cell_type": "code",
      "execution_count": 1043,
      "metadata": {
        "colab": {
          "base_uri": "https://localhost:8080/",
          "height": 1000
        },
        "id": "LJsxsx0HyhXI",
        "outputId": "713c1bef-1d3a-4df9-a7aa-822738712f6c"
      },
      "outputs": [
        {
          "output_type": "execute_result",
          "data": {
            "text/plain": [
              "    age         workclass  fnlwgt     education  education-num  \\\n",
              "0    39         State-gov   77516     Bachelors             13   \n",
              "1    50  Self-emp-not-inc   83311     Bachelors             13   \n",
              "2    38           Private  215646       HS-grad              9   \n",
              "3    53           Private  234721          11th              7   \n",
              "4    28           Private  338409     Bachelors             13   \n",
              "5    37           Private  284582       Masters             14   \n",
              "6    49           Private  160187           9th              5   \n",
              "7    52  Self-emp-not-inc  209642       HS-grad              9   \n",
              "8    31           Private   45781       Masters             14   \n",
              "9    42           Private  159449     Bachelors             13   \n",
              "10   37           Private  280464  Some-college             10   \n",
              "11   30         State-gov  141297     Bachelors             13   \n",
              "12   23           Private  122272     Bachelors             13   \n",
              "13   32           Private  205019    Assoc-acdm             12   \n",
              "14   40           Private  121772     Assoc-voc             11   \n",
              "15   34           Private  245487       7th-8th              4   \n",
              "16   25  Self-emp-not-inc  176756       HS-grad              9   \n",
              "17   32           Private  186824       HS-grad              9   \n",
              "18   38           Private   28887          11th              7   \n",
              "19   43  Self-emp-not-inc  292175       Masters             14   \n",
              "20   40           Private  193524     Doctorate             16   \n",
              "21   54           Private  302146       HS-grad              9   \n",
              "22   35       Federal-gov   76845           9th              5   \n",
              "23   43           Private  117037          11th              7   \n",
              "24   59           Private  109015       HS-grad              9   \n",
              "25   56         Local-gov  216851     Bachelors             13   \n",
              "26   19           Private  168294       HS-grad              9   \n",
              "27   54                 ?  180211  Some-college             10   \n",
              "28   39           Private  367260       HS-grad              9   \n",
              "29   49           Private  193366       HS-grad              9   \n",
              "\n",
              "           marital-status         occupation   relationship  \\\n",
              "0           Never-married       Adm-clerical  Not-in-family   \n",
              "1      Married-civ-spouse    Exec-managerial        Husband   \n",
              "2                Divorced  Handlers-cleaners  Not-in-family   \n",
              "3      Married-civ-spouse  Handlers-cleaners        Husband   \n",
              "4      Married-civ-spouse     Prof-specialty           Wife   \n",
              "5      Married-civ-spouse    Exec-managerial           Wife   \n",
              "6   Married-spouse-absent      Other-service  Not-in-family   \n",
              "7      Married-civ-spouse    Exec-managerial        Husband   \n",
              "8           Never-married     Prof-specialty  Not-in-family   \n",
              "9      Married-civ-spouse    Exec-managerial        Husband   \n",
              "10     Married-civ-spouse    Exec-managerial        Husband   \n",
              "11     Married-civ-spouse     Prof-specialty        Husband   \n",
              "12          Never-married       Adm-clerical      Own-child   \n",
              "13          Never-married              Sales  Not-in-family   \n",
              "14     Married-civ-spouse       Craft-repair        Husband   \n",
              "15     Married-civ-spouse   Transport-moving        Husband   \n",
              "16          Never-married    Farming-fishing      Own-child   \n",
              "17          Never-married  Machine-op-inspct      Unmarried   \n",
              "18     Married-civ-spouse              Sales        Husband   \n",
              "19               Divorced    Exec-managerial      Unmarried   \n",
              "20     Married-civ-spouse     Prof-specialty        Husband   \n",
              "21              Separated      Other-service      Unmarried   \n",
              "22     Married-civ-spouse    Farming-fishing        Husband   \n",
              "23     Married-civ-spouse   Transport-moving        Husband   \n",
              "24               Divorced       Tech-support      Unmarried   \n",
              "25     Married-civ-spouse       Tech-support        Husband   \n",
              "26          Never-married       Craft-repair      Own-child   \n",
              "27     Married-civ-spouse                  ?        Husband   \n",
              "28               Divorced    Exec-managerial  Not-in-family   \n",
              "29     Married-civ-spouse       Craft-repair        Husband   \n",
              "\n",
              "                  race     sex  capital-gain  capital-loss  hours-per-week  \\\n",
              "0                White    Male          2174             0              40   \n",
              "1                White    Male             0             0              13   \n",
              "2                White    Male             0             0              40   \n",
              "3                Black    Male             0             0              40   \n",
              "4                Black  Female             0             0              40   \n",
              "5                White  Female             0             0              40   \n",
              "6                Black  Female             0             0              16   \n",
              "7                White    Male             0             0              45   \n",
              "8                White  Female         14084             0              50   \n",
              "9                White    Male          5178             0              40   \n",
              "10               Black    Male             0             0              80   \n",
              "11  Asian-Pac-Islander    Male             0             0              40   \n",
              "12               White  Female             0             0              30   \n",
              "13               Black    Male             0             0              50   \n",
              "14  Asian-Pac-Islander    Male             0             0              40   \n",
              "15  Amer-Indian-Eskimo    Male             0             0              45   \n",
              "16               White    Male             0             0              35   \n",
              "17               White    Male             0             0              40   \n",
              "18               White    Male             0             0              50   \n",
              "19               White  Female             0             0              45   \n",
              "20               White    Male             0             0              60   \n",
              "21               Black  Female             0             0              20   \n",
              "22               Black    Male             0             0              40   \n",
              "23               White    Male             0          2042              40   \n",
              "24               White  Female             0             0              40   \n",
              "25               White    Male             0             0              40   \n",
              "26               White    Male             0             0              40   \n",
              "27  Asian-Pac-Islander    Male             0             0              60   \n",
              "28               White    Male             0             0              80   \n",
              "29               White    Male             0             0              40   \n",
              "\n",
              "   native-country income  \n",
              "0   United-States  <=50K  \n",
              "1   United-States  <=50K  \n",
              "2   United-States  <=50K  \n",
              "3   United-States  <=50K  \n",
              "4            Cuba  <=50K  \n",
              "5   United-States  <=50K  \n",
              "6         Jamaica  <=50K  \n",
              "7   United-States   >50K  \n",
              "8   United-States   >50K  \n",
              "9   United-States   >50K  \n",
              "10  United-States   >50K  \n",
              "11          India   >50K  \n",
              "12  United-States  <=50K  \n",
              "13  United-States  <=50K  \n",
              "14              ?   >50K  \n",
              "15         Mexico  <=50K  \n",
              "16  United-States  <=50K  \n",
              "17  United-States  <=50K  \n",
              "18  United-States  <=50K  \n",
              "19  United-States   >50K  \n",
              "20  United-States   >50K  \n",
              "21  United-States  <=50K  \n",
              "22  United-States  <=50K  \n",
              "23  United-States  <=50K  \n",
              "24  United-States  <=50K  \n",
              "25  United-States   >50K  \n",
              "26  United-States  <=50K  \n",
              "27          South   >50K  \n",
              "28  United-States  <=50K  \n",
              "29  United-States  <=50K  "
            ],
            "text/html": [
              "\n",
              "  <div id=\"df-8dce571f-8eb4-4688-8aca-8bee4866c3e1\">\n",
              "    <div class=\"colab-df-container\">\n",
              "      <div>\n",
              "<style scoped>\n",
              "    .dataframe tbody tr th:only-of-type {\n",
              "        vertical-align: middle;\n",
              "    }\n",
              "\n",
              "    .dataframe tbody tr th {\n",
              "        vertical-align: top;\n",
              "    }\n",
              "\n",
              "    .dataframe thead th {\n",
              "        text-align: right;\n",
              "    }\n",
              "</style>\n",
              "<table border=\"1\" class=\"dataframe\">\n",
              "  <thead>\n",
              "    <tr style=\"text-align: right;\">\n",
              "      <th></th>\n",
              "      <th>age</th>\n",
              "      <th>workclass</th>\n",
              "      <th>fnlwgt</th>\n",
              "      <th>education</th>\n",
              "      <th>education-num</th>\n",
              "      <th>marital-status</th>\n",
              "      <th>occupation</th>\n",
              "      <th>relationship</th>\n",
              "      <th>race</th>\n",
              "      <th>sex</th>\n",
              "      <th>capital-gain</th>\n",
              "      <th>capital-loss</th>\n",
              "      <th>hours-per-week</th>\n",
              "      <th>native-country</th>\n",
              "      <th>income</th>\n",
              "    </tr>\n",
              "  </thead>\n",
              "  <tbody>\n",
              "    <tr>\n",
              "      <th>0</th>\n",
              "      <td>39</td>\n",
              "      <td>State-gov</td>\n",
              "      <td>77516</td>\n",
              "      <td>Bachelors</td>\n",
              "      <td>13</td>\n",
              "      <td>Never-married</td>\n",
              "      <td>Adm-clerical</td>\n",
              "      <td>Not-in-family</td>\n",
              "      <td>White</td>\n",
              "      <td>Male</td>\n",
              "      <td>2174</td>\n",
              "      <td>0</td>\n",
              "      <td>40</td>\n",
              "      <td>United-States</td>\n",
              "      <td>&lt;=50K</td>\n",
              "    </tr>\n",
              "    <tr>\n",
              "      <th>1</th>\n",
              "      <td>50</td>\n",
              "      <td>Self-emp-not-inc</td>\n",
              "      <td>83311</td>\n",
              "      <td>Bachelors</td>\n",
              "      <td>13</td>\n",
              "      <td>Married-civ-spouse</td>\n",
              "      <td>Exec-managerial</td>\n",
              "      <td>Husband</td>\n",
              "      <td>White</td>\n",
              "      <td>Male</td>\n",
              "      <td>0</td>\n",
              "      <td>0</td>\n",
              "      <td>13</td>\n",
              "      <td>United-States</td>\n",
              "      <td>&lt;=50K</td>\n",
              "    </tr>\n",
              "    <tr>\n",
              "      <th>2</th>\n",
              "      <td>38</td>\n",
              "      <td>Private</td>\n",
              "      <td>215646</td>\n",
              "      <td>HS-grad</td>\n",
              "      <td>9</td>\n",
              "      <td>Divorced</td>\n",
              "      <td>Handlers-cleaners</td>\n",
              "      <td>Not-in-family</td>\n",
              "      <td>White</td>\n",
              "      <td>Male</td>\n",
              "      <td>0</td>\n",
              "      <td>0</td>\n",
              "      <td>40</td>\n",
              "      <td>United-States</td>\n",
              "      <td>&lt;=50K</td>\n",
              "    </tr>\n",
              "    <tr>\n",
              "      <th>3</th>\n",
              "      <td>53</td>\n",
              "      <td>Private</td>\n",
              "      <td>234721</td>\n",
              "      <td>11th</td>\n",
              "      <td>7</td>\n",
              "      <td>Married-civ-spouse</td>\n",
              "      <td>Handlers-cleaners</td>\n",
              "      <td>Husband</td>\n",
              "      <td>Black</td>\n",
              "      <td>Male</td>\n",
              "      <td>0</td>\n",
              "      <td>0</td>\n",
              "      <td>40</td>\n",
              "      <td>United-States</td>\n",
              "      <td>&lt;=50K</td>\n",
              "    </tr>\n",
              "    <tr>\n",
              "      <th>4</th>\n",
              "      <td>28</td>\n",
              "      <td>Private</td>\n",
              "      <td>338409</td>\n",
              "      <td>Bachelors</td>\n",
              "      <td>13</td>\n",
              "      <td>Married-civ-spouse</td>\n",
              "      <td>Prof-specialty</td>\n",
              "      <td>Wife</td>\n",
              "      <td>Black</td>\n",
              "      <td>Female</td>\n",
              "      <td>0</td>\n",
              "      <td>0</td>\n",
              "      <td>40</td>\n",
              "      <td>Cuba</td>\n",
              "      <td>&lt;=50K</td>\n",
              "    </tr>\n",
              "    <tr>\n",
              "      <th>5</th>\n",
              "      <td>37</td>\n",
              "      <td>Private</td>\n",
              "      <td>284582</td>\n",
              "      <td>Masters</td>\n",
              "      <td>14</td>\n",
              "      <td>Married-civ-spouse</td>\n",
              "      <td>Exec-managerial</td>\n",
              "      <td>Wife</td>\n",
              "      <td>White</td>\n",
              "      <td>Female</td>\n",
              "      <td>0</td>\n",
              "      <td>0</td>\n",
              "      <td>40</td>\n",
              "      <td>United-States</td>\n",
              "      <td>&lt;=50K</td>\n",
              "    </tr>\n",
              "    <tr>\n",
              "      <th>6</th>\n",
              "      <td>49</td>\n",
              "      <td>Private</td>\n",
              "      <td>160187</td>\n",
              "      <td>9th</td>\n",
              "      <td>5</td>\n",
              "      <td>Married-spouse-absent</td>\n",
              "      <td>Other-service</td>\n",
              "      <td>Not-in-family</td>\n",
              "      <td>Black</td>\n",
              "      <td>Female</td>\n",
              "      <td>0</td>\n",
              "      <td>0</td>\n",
              "      <td>16</td>\n",
              "      <td>Jamaica</td>\n",
              "      <td>&lt;=50K</td>\n",
              "    </tr>\n",
              "    <tr>\n",
              "      <th>7</th>\n",
              "      <td>52</td>\n",
              "      <td>Self-emp-not-inc</td>\n",
              "      <td>209642</td>\n",
              "      <td>HS-grad</td>\n",
              "      <td>9</td>\n",
              "      <td>Married-civ-spouse</td>\n",
              "      <td>Exec-managerial</td>\n",
              "      <td>Husband</td>\n",
              "      <td>White</td>\n",
              "      <td>Male</td>\n",
              "      <td>0</td>\n",
              "      <td>0</td>\n",
              "      <td>45</td>\n",
              "      <td>United-States</td>\n",
              "      <td>&gt;50K</td>\n",
              "    </tr>\n",
              "    <tr>\n",
              "      <th>8</th>\n",
              "      <td>31</td>\n",
              "      <td>Private</td>\n",
              "      <td>45781</td>\n",
              "      <td>Masters</td>\n",
              "      <td>14</td>\n",
              "      <td>Never-married</td>\n",
              "      <td>Prof-specialty</td>\n",
              "      <td>Not-in-family</td>\n",
              "      <td>White</td>\n",
              "      <td>Female</td>\n",
              "      <td>14084</td>\n",
              "      <td>0</td>\n",
              "      <td>50</td>\n",
              "      <td>United-States</td>\n",
              "      <td>&gt;50K</td>\n",
              "    </tr>\n",
              "    <tr>\n",
              "      <th>9</th>\n",
              "      <td>42</td>\n",
              "      <td>Private</td>\n",
              "      <td>159449</td>\n",
              "      <td>Bachelors</td>\n",
              "      <td>13</td>\n",
              "      <td>Married-civ-spouse</td>\n",
              "      <td>Exec-managerial</td>\n",
              "      <td>Husband</td>\n",
              "      <td>White</td>\n",
              "      <td>Male</td>\n",
              "      <td>5178</td>\n",
              "      <td>0</td>\n",
              "      <td>40</td>\n",
              "      <td>United-States</td>\n",
              "      <td>&gt;50K</td>\n",
              "    </tr>\n",
              "    <tr>\n",
              "      <th>10</th>\n",
              "      <td>37</td>\n",
              "      <td>Private</td>\n",
              "      <td>280464</td>\n",
              "      <td>Some-college</td>\n",
              "      <td>10</td>\n",
              "      <td>Married-civ-spouse</td>\n",
              "      <td>Exec-managerial</td>\n",
              "      <td>Husband</td>\n",
              "      <td>Black</td>\n",
              "      <td>Male</td>\n",
              "      <td>0</td>\n",
              "      <td>0</td>\n",
              "      <td>80</td>\n",
              "      <td>United-States</td>\n",
              "      <td>&gt;50K</td>\n",
              "    </tr>\n",
              "    <tr>\n",
              "      <th>11</th>\n",
              "      <td>30</td>\n",
              "      <td>State-gov</td>\n",
              "      <td>141297</td>\n",
              "      <td>Bachelors</td>\n",
              "      <td>13</td>\n",
              "      <td>Married-civ-spouse</td>\n",
              "      <td>Prof-specialty</td>\n",
              "      <td>Husband</td>\n",
              "      <td>Asian-Pac-Islander</td>\n",
              "      <td>Male</td>\n",
              "      <td>0</td>\n",
              "      <td>0</td>\n",
              "      <td>40</td>\n",
              "      <td>India</td>\n",
              "      <td>&gt;50K</td>\n",
              "    </tr>\n",
              "    <tr>\n",
              "      <th>12</th>\n",
              "      <td>23</td>\n",
              "      <td>Private</td>\n",
              "      <td>122272</td>\n",
              "      <td>Bachelors</td>\n",
              "      <td>13</td>\n",
              "      <td>Never-married</td>\n",
              "      <td>Adm-clerical</td>\n",
              "      <td>Own-child</td>\n",
              "      <td>White</td>\n",
              "      <td>Female</td>\n",
              "      <td>0</td>\n",
              "      <td>0</td>\n",
              "      <td>30</td>\n",
              "      <td>United-States</td>\n",
              "      <td>&lt;=50K</td>\n",
              "    </tr>\n",
              "    <tr>\n",
              "      <th>13</th>\n",
              "      <td>32</td>\n",
              "      <td>Private</td>\n",
              "      <td>205019</td>\n",
              "      <td>Assoc-acdm</td>\n",
              "      <td>12</td>\n",
              "      <td>Never-married</td>\n",
              "      <td>Sales</td>\n",
              "      <td>Not-in-family</td>\n",
              "      <td>Black</td>\n",
              "      <td>Male</td>\n",
              "      <td>0</td>\n",
              "      <td>0</td>\n",
              "      <td>50</td>\n",
              "      <td>United-States</td>\n",
              "      <td>&lt;=50K</td>\n",
              "    </tr>\n",
              "    <tr>\n",
              "      <th>14</th>\n",
              "      <td>40</td>\n",
              "      <td>Private</td>\n",
              "      <td>121772</td>\n",
              "      <td>Assoc-voc</td>\n",
              "      <td>11</td>\n",
              "      <td>Married-civ-spouse</td>\n",
              "      <td>Craft-repair</td>\n",
              "      <td>Husband</td>\n",
              "      <td>Asian-Pac-Islander</td>\n",
              "      <td>Male</td>\n",
              "      <td>0</td>\n",
              "      <td>0</td>\n",
              "      <td>40</td>\n",
              "      <td>?</td>\n",
              "      <td>&gt;50K</td>\n",
              "    </tr>\n",
              "    <tr>\n",
              "      <th>15</th>\n",
              "      <td>34</td>\n",
              "      <td>Private</td>\n",
              "      <td>245487</td>\n",
              "      <td>7th-8th</td>\n",
              "      <td>4</td>\n",
              "      <td>Married-civ-spouse</td>\n",
              "      <td>Transport-moving</td>\n",
              "      <td>Husband</td>\n",
              "      <td>Amer-Indian-Eskimo</td>\n",
              "      <td>Male</td>\n",
              "      <td>0</td>\n",
              "      <td>0</td>\n",
              "      <td>45</td>\n",
              "      <td>Mexico</td>\n",
              "      <td>&lt;=50K</td>\n",
              "    </tr>\n",
              "    <tr>\n",
              "      <th>16</th>\n",
              "      <td>25</td>\n",
              "      <td>Self-emp-not-inc</td>\n",
              "      <td>176756</td>\n",
              "      <td>HS-grad</td>\n",
              "      <td>9</td>\n",
              "      <td>Never-married</td>\n",
              "      <td>Farming-fishing</td>\n",
              "      <td>Own-child</td>\n",
              "      <td>White</td>\n",
              "      <td>Male</td>\n",
              "      <td>0</td>\n",
              "      <td>0</td>\n",
              "      <td>35</td>\n",
              "      <td>United-States</td>\n",
              "      <td>&lt;=50K</td>\n",
              "    </tr>\n",
              "    <tr>\n",
              "      <th>17</th>\n",
              "      <td>32</td>\n",
              "      <td>Private</td>\n",
              "      <td>186824</td>\n",
              "      <td>HS-grad</td>\n",
              "      <td>9</td>\n",
              "      <td>Never-married</td>\n",
              "      <td>Machine-op-inspct</td>\n",
              "      <td>Unmarried</td>\n",
              "      <td>White</td>\n",
              "      <td>Male</td>\n",
              "      <td>0</td>\n",
              "      <td>0</td>\n",
              "      <td>40</td>\n",
              "      <td>United-States</td>\n",
              "      <td>&lt;=50K</td>\n",
              "    </tr>\n",
              "    <tr>\n",
              "      <th>18</th>\n",
              "      <td>38</td>\n",
              "      <td>Private</td>\n",
              "      <td>28887</td>\n",
              "      <td>11th</td>\n",
              "      <td>7</td>\n",
              "      <td>Married-civ-spouse</td>\n",
              "      <td>Sales</td>\n",
              "      <td>Husband</td>\n",
              "      <td>White</td>\n",
              "      <td>Male</td>\n",
              "      <td>0</td>\n",
              "      <td>0</td>\n",
              "      <td>50</td>\n",
              "      <td>United-States</td>\n",
              "      <td>&lt;=50K</td>\n",
              "    </tr>\n",
              "    <tr>\n",
              "      <th>19</th>\n",
              "      <td>43</td>\n",
              "      <td>Self-emp-not-inc</td>\n",
              "      <td>292175</td>\n",
              "      <td>Masters</td>\n",
              "      <td>14</td>\n",
              "      <td>Divorced</td>\n",
              "      <td>Exec-managerial</td>\n",
              "      <td>Unmarried</td>\n",
              "      <td>White</td>\n",
              "      <td>Female</td>\n",
              "      <td>0</td>\n",
              "      <td>0</td>\n",
              "      <td>45</td>\n",
              "      <td>United-States</td>\n",
              "      <td>&gt;50K</td>\n",
              "    </tr>\n",
              "    <tr>\n",
              "      <th>20</th>\n",
              "      <td>40</td>\n",
              "      <td>Private</td>\n",
              "      <td>193524</td>\n",
              "      <td>Doctorate</td>\n",
              "      <td>16</td>\n",
              "      <td>Married-civ-spouse</td>\n",
              "      <td>Prof-specialty</td>\n",
              "      <td>Husband</td>\n",
              "      <td>White</td>\n",
              "      <td>Male</td>\n",
              "      <td>0</td>\n",
              "      <td>0</td>\n",
              "      <td>60</td>\n",
              "      <td>United-States</td>\n",
              "      <td>&gt;50K</td>\n",
              "    </tr>\n",
              "    <tr>\n",
              "      <th>21</th>\n",
              "      <td>54</td>\n",
              "      <td>Private</td>\n",
              "      <td>302146</td>\n",
              "      <td>HS-grad</td>\n",
              "      <td>9</td>\n",
              "      <td>Separated</td>\n",
              "      <td>Other-service</td>\n",
              "      <td>Unmarried</td>\n",
              "      <td>Black</td>\n",
              "      <td>Female</td>\n",
              "      <td>0</td>\n",
              "      <td>0</td>\n",
              "      <td>20</td>\n",
              "      <td>United-States</td>\n",
              "      <td>&lt;=50K</td>\n",
              "    </tr>\n",
              "    <tr>\n",
              "      <th>22</th>\n",
              "      <td>35</td>\n",
              "      <td>Federal-gov</td>\n",
              "      <td>76845</td>\n",
              "      <td>9th</td>\n",
              "      <td>5</td>\n",
              "      <td>Married-civ-spouse</td>\n",
              "      <td>Farming-fishing</td>\n",
              "      <td>Husband</td>\n",
              "      <td>Black</td>\n",
              "      <td>Male</td>\n",
              "      <td>0</td>\n",
              "      <td>0</td>\n",
              "      <td>40</td>\n",
              "      <td>United-States</td>\n",
              "      <td>&lt;=50K</td>\n",
              "    </tr>\n",
              "    <tr>\n",
              "      <th>23</th>\n",
              "      <td>43</td>\n",
              "      <td>Private</td>\n",
              "      <td>117037</td>\n",
              "      <td>11th</td>\n",
              "      <td>7</td>\n",
              "      <td>Married-civ-spouse</td>\n",
              "      <td>Transport-moving</td>\n",
              "      <td>Husband</td>\n",
              "      <td>White</td>\n",
              "      <td>Male</td>\n",
              "      <td>0</td>\n",
              "      <td>2042</td>\n",
              "      <td>40</td>\n",
              "      <td>United-States</td>\n",
              "      <td>&lt;=50K</td>\n",
              "    </tr>\n",
              "    <tr>\n",
              "      <th>24</th>\n",
              "      <td>59</td>\n",
              "      <td>Private</td>\n",
              "      <td>109015</td>\n",
              "      <td>HS-grad</td>\n",
              "      <td>9</td>\n",
              "      <td>Divorced</td>\n",
              "      <td>Tech-support</td>\n",
              "      <td>Unmarried</td>\n",
              "      <td>White</td>\n",
              "      <td>Female</td>\n",
              "      <td>0</td>\n",
              "      <td>0</td>\n",
              "      <td>40</td>\n",
              "      <td>United-States</td>\n",
              "      <td>&lt;=50K</td>\n",
              "    </tr>\n",
              "    <tr>\n",
              "      <th>25</th>\n",
              "      <td>56</td>\n",
              "      <td>Local-gov</td>\n",
              "      <td>216851</td>\n",
              "      <td>Bachelors</td>\n",
              "      <td>13</td>\n",
              "      <td>Married-civ-spouse</td>\n",
              "      <td>Tech-support</td>\n",
              "      <td>Husband</td>\n",
              "      <td>White</td>\n",
              "      <td>Male</td>\n",
              "      <td>0</td>\n",
              "      <td>0</td>\n",
              "      <td>40</td>\n",
              "      <td>United-States</td>\n",
              "      <td>&gt;50K</td>\n",
              "    </tr>\n",
              "    <tr>\n",
              "      <th>26</th>\n",
              "      <td>19</td>\n",
              "      <td>Private</td>\n",
              "      <td>168294</td>\n",
              "      <td>HS-grad</td>\n",
              "      <td>9</td>\n",
              "      <td>Never-married</td>\n",
              "      <td>Craft-repair</td>\n",
              "      <td>Own-child</td>\n",
              "      <td>White</td>\n",
              "      <td>Male</td>\n",
              "      <td>0</td>\n",
              "      <td>0</td>\n",
              "      <td>40</td>\n",
              "      <td>United-States</td>\n",
              "      <td>&lt;=50K</td>\n",
              "    </tr>\n",
              "    <tr>\n",
              "      <th>27</th>\n",
              "      <td>54</td>\n",
              "      <td>?</td>\n",
              "      <td>180211</td>\n",
              "      <td>Some-college</td>\n",
              "      <td>10</td>\n",
              "      <td>Married-civ-spouse</td>\n",
              "      <td>?</td>\n",
              "      <td>Husband</td>\n",
              "      <td>Asian-Pac-Islander</td>\n",
              "      <td>Male</td>\n",
              "      <td>0</td>\n",
              "      <td>0</td>\n",
              "      <td>60</td>\n",
              "      <td>South</td>\n",
              "      <td>&gt;50K</td>\n",
              "    </tr>\n",
              "    <tr>\n",
              "      <th>28</th>\n",
              "      <td>39</td>\n",
              "      <td>Private</td>\n",
              "      <td>367260</td>\n",
              "      <td>HS-grad</td>\n",
              "      <td>9</td>\n",
              "      <td>Divorced</td>\n",
              "      <td>Exec-managerial</td>\n",
              "      <td>Not-in-family</td>\n",
              "      <td>White</td>\n",
              "      <td>Male</td>\n",
              "      <td>0</td>\n",
              "      <td>0</td>\n",
              "      <td>80</td>\n",
              "      <td>United-States</td>\n",
              "      <td>&lt;=50K</td>\n",
              "    </tr>\n",
              "    <tr>\n",
              "      <th>29</th>\n",
              "      <td>49</td>\n",
              "      <td>Private</td>\n",
              "      <td>193366</td>\n",
              "      <td>HS-grad</td>\n",
              "      <td>9</td>\n",
              "      <td>Married-civ-spouse</td>\n",
              "      <td>Craft-repair</td>\n",
              "      <td>Husband</td>\n",
              "      <td>White</td>\n",
              "      <td>Male</td>\n",
              "      <td>0</td>\n",
              "      <td>0</td>\n",
              "      <td>40</td>\n",
              "      <td>United-States</td>\n",
              "      <td>&lt;=50K</td>\n",
              "    </tr>\n",
              "  </tbody>\n",
              "</table>\n",
              "</div>\n",
              "      <button class=\"colab-df-convert\" onclick=\"convertToInteractive('df-8dce571f-8eb4-4688-8aca-8bee4866c3e1')\"\n",
              "              title=\"Convert this dataframe to an interactive table.\"\n",
              "              style=\"display:none;\">\n",
              "        \n",
              "  <svg xmlns=\"http://www.w3.org/2000/svg\" height=\"24px\"viewBox=\"0 0 24 24\"\n",
              "       width=\"24px\">\n",
              "    <path d=\"M0 0h24v24H0V0z\" fill=\"none\"/>\n",
              "    <path d=\"M18.56 5.44l.94 2.06.94-2.06 2.06-.94-2.06-.94-.94-2.06-.94 2.06-2.06.94zm-11 1L8.5 8.5l.94-2.06 2.06-.94-2.06-.94L8.5 2.5l-.94 2.06-2.06.94zm10 10l.94 2.06.94-2.06 2.06-.94-2.06-.94-.94-2.06-.94 2.06-2.06.94z\"/><path d=\"M17.41 7.96l-1.37-1.37c-.4-.4-.92-.59-1.43-.59-.52 0-1.04.2-1.43.59L10.3 9.45l-7.72 7.72c-.78.78-.78 2.05 0 2.83L4 21.41c.39.39.9.59 1.41.59.51 0 1.02-.2 1.41-.59l7.78-7.78 2.81-2.81c.8-.78.8-2.07 0-2.86zM5.41 20L4 18.59l7.72-7.72 1.47 1.35L5.41 20z\"/>\n",
              "  </svg>\n",
              "      </button>\n",
              "      \n",
              "  <style>\n",
              "    .colab-df-container {\n",
              "      display:flex;\n",
              "      flex-wrap:wrap;\n",
              "      gap: 12px;\n",
              "    }\n",
              "\n",
              "    .colab-df-convert {\n",
              "      background-color: #E8F0FE;\n",
              "      border: none;\n",
              "      border-radius: 50%;\n",
              "      cursor: pointer;\n",
              "      display: none;\n",
              "      fill: #1967D2;\n",
              "      height: 32px;\n",
              "      padding: 0 0 0 0;\n",
              "      width: 32px;\n",
              "    }\n",
              "\n",
              "    .colab-df-convert:hover {\n",
              "      background-color: #E2EBFA;\n",
              "      box-shadow: 0px 1px 2px rgba(60, 64, 67, 0.3), 0px 1px 3px 1px rgba(60, 64, 67, 0.15);\n",
              "      fill: #174EA6;\n",
              "    }\n",
              "\n",
              "    [theme=dark] .colab-df-convert {\n",
              "      background-color: #3B4455;\n",
              "      fill: #D2E3FC;\n",
              "    }\n",
              "\n",
              "    [theme=dark] .colab-df-convert:hover {\n",
              "      background-color: #434B5C;\n",
              "      box-shadow: 0px 1px 3px 1px rgba(0, 0, 0, 0.15);\n",
              "      filter: drop-shadow(0px 1px 2px rgba(0, 0, 0, 0.3));\n",
              "      fill: #FFFFFF;\n",
              "    }\n",
              "  </style>\n",
              "\n",
              "      <script>\n",
              "        const buttonEl =\n",
              "          document.querySelector('#df-8dce571f-8eb4-4688-8aca-8bee4866c3e1 button.colab-df-convert');\n",
              "        buttonEl.style.display =\n",
              "          google.colab.kernel.accessAllowed ? 'block' : 'none';\n",
              "\n",
              "        async function convertToInteractive(key) {\n",
              "          const element = document.querySelector('#df-8dce571f-8eb4-4688-8aca-8bee4866c3e1');\n",
              "          const dataTable =\n",
              "            await google.colab.kernel.invokeFunction('convertToInteractive',\n",
              "                                                     [key], {});\n",
              "          if (!dataTable) return;\n",
              "\n",
              "          const docLinkHtml = 'Like what you see? Visit the ' +\n",
              "            '<a target=\"_blank\" href=https://colab.research.google.com/notebooks/data_table.ipynb>data table notebook</a>'\n",
              "            + ' to learn more about interactive tables.';\n",
              "          element.innerHTML = '';\n",
              "          dataTable['output_type'] = 'display_data';\n",
              "          await google.colab.output.renderOutput(dataTable, element);\n",
              "          const docLink = document.createElement('div');\n",
              "          docLink.innerHTML = docLinkHtml;\n",
              "          element.appendChild(docLink);\n",
              "        }\n",
              "      </script>\n",
              "    </div>\n",
              "  </div>\n",
              "  "
            ]
          },
          "metadata": {},
          "execution_count": 1043
        }
      ],
      "source": [
        "census_df.head(30)"
      ]
    },
    {
      "cell_type": "markdown",
      "metadata": {
        "id": "Zg0J6hJy6m4U"
      },
      "source": [
        "The dataset contains no null values. However, there are a few '?' values, in \"workclass\",\"occupation\", \"native-country\", that can be fixed."
      ]
    },
    {
      "cell_type": "code",
      "execution_count": 1044,
      "metadata": {
        "colab": {
          "base_uri": "https://localhost:8080/",
          "height": 300
        },
        "id": "wdYLPXmF7UbO",
        "outputId": "49a9ce61-a60d-4528-ec0f-1fdc79410af2"
      },
      "outputs": [
        {
          "output_type": "execute_result",
          "data": {
            "text/plain": [
              "                age        fnlwgt  education-num  capital-gain  capital-loss  \\\n",
              "count  32561.000000  3.256100e+04   32561.000000  32561.000000  32561.000000   \n",
              "mean      38.581647  1.897784e+05      10.080679   1077.648844     87.303830   \n",
              "std       13.640433  1.055500e+05       2.572720   7385.292085    402.960219   \n",
              "min       17.000000  1.228500e+04       1.000000      0.000000      0.000000   \n",
              "25%       28.000000  1.178270e+05       9.000000      0.000000      0.000000   \n",
              "50%       37.000000  1.783560e+05      10.000000      0.000000      0.000000   \n",
              "75%       48.000000  2.370510e+05      12.000000      0.000000      0.000000   \n",
              "max       90.000000  1.484705e+06      16.000000  99999.000000   4356.000000   \n",
              "\n",
              "       hours-per-week  \n",
              "count    32561.000000  \n",
              "mean        40.437456  \n",
              "std         12.347429  \n",
              "min          1.000000  \n",
              "25%         40.000000  \n",
              "50%         40.000000  \n",
              "75%         45.000000  \n",
              "max         99.000000  "
            ],
            "text/html": [
              "\n",
              "  <div id=\"df-9ee441bb-4f4f-426a-90db-2c5ecf586113\">\n",
              "    <div class=\"colab-df-container\">\n",
              "      <div>\n",
              "<style scoped>\n",
              "    .dataframe tbody tr th:only-of-type {\n",
              "        vertical-align: middle;\n",
              "    }\n",
              "\n",
              "    .dataframe tbody tr th {\n",
              "        vertical-align: top;\n",
              "    }\n",
              "\n",
              "    .dataframe thead th {\n",
              "        text-align: right;\n",
              "    }\n",
              "</style>\n",
              "<table border=\"1\" class=\"dataframe\">\n",
              "  <thead>\n",
              "    <tr style=\"text-align: right;\">\n",
              "      <th></th>\n",
              "      <th>age</th>\n",
              "      <th>fnlwgt</th>\n",
              "      <th>education-num</th>\n",
              "      <th>capital-gain</th>\n",
              "      <th>capital-loss</th>\n",
              "      <th>hours-per-week</th>\n",
              "    </tr>\n",
              "  </thead>\n",
              "  <tbody>\n",
              "    <tr>\n",
              "      <th>count</th>\n",
              "      <td>32561.000000</td>\n",
              "      <td>3.256100e+04</td>\n",
              "      <td>32561.000000</td>\n",
              "      <td>32561.000000</td>\n",
              "      <td>32561.000000</td>\n",
              "      <td>32561.000000</td>\n",
              "    </tr>\n",
              "    <tr>\n",
              "      <th>mean</th>\n",
              "      <td>38.581647</td>\n",
              "      <td>1.897784e+05</td>\n",
              "      <td>10.080679</td>\n",
              "      <td>1077.648844</td>\n",
              "      <td>87.303830</td>\n",
              "      <td>40.437456</td>\n",
              "    </tr>\n",
              "    <tr>\n",
              "      <th>std</th>\n",
              "      <td>13.640433</td>\n",
              "      <td>1.055500e+05</td>\n",
              "      <td>2.572720</td>\n",
              "      <td>7385.292085</td>\n",
              "      <td>402.960219</td>\n",
              "      <td>12.347429</td>\n",
              "    </tr>\n",
              "    <tr>\n",
              "      <th>min</th>\n",
              "      <td>17.000000</td>\n",
              "      <td>1.228500e+04</td>\n",
              "      <td>1.000000</td>\n",
              "      <td>0.000000</td>\n",
              "      <td>0.000000</td>\n",
              "      <td>1.000000</td>\n",
              "    </tr>\n",
              "    <tr>\n",
              "      <th>25%</th>\n",
              "      <td>28.000000</td>\n",
              "      <td>1.178270e+05</td>\n",
              "      <td>9.000000</td>\n",
              "      <td>0.000000</td>\n",
              "      <td>0.000000</td>\n",
              "      <td>40.000000</td>\n",
              "    </tr>\n",
              "    <tr>\n",
              "      <th>50%</th>\n",
              "      <td>37.000000</td>\n",
              "      <td>1.783560e+05</td>\n",
              "      <td>10.000000</td>\n",
              "      <td>0.000000</td>\n",
              "      <td>0.000000</td>\n",
              "      <td>40.000000</td>\n",
              "    </tr>\n",
              "    <tr>\n",
              "      <th>75%</th>\n",
              "      <td>48.000000</td>\n",
              "      <td>2.370510e+05</td>\n",
              "      <td>12.000000</td>\n",
              "      <td>0.000000</td>\n",
              "      <td>0.000000</td>\n",
              "      <td>45.000000</td>\n",
              "    </tr>\n",
              "    <tr>\n",
              "      <th>max</th>\n",
              "      <td>90.000000</td>\n",
              "      <td>1.484705e+06</td>\n",
              "      <td>16.000000</td>\n",
              "      <td>99999.000000</td>\n",
              "      <td>4356.000000</td>\n",
              "      <td>99.000000</td>\n",
              "    </tr>\n",
              "  </tbody>\n",
              "</table>\n",
              "</div>\n",
              "      <button class=\"colab-df-convert\" onclick=\"convertToInteractive('df-9ee441bb-4f4f-426a-90db-2c5ecf586113')\"\n",
              "              title=\"Convert this dataframe to an interactive table.\"\n",
              "              style=\"display:none;\">\n",
              "        \n",
              "  <svg xmlns=\"http://www.w3.org/2000/svg\" height=\"24px\"viewBox=\"0 0 24 24\"\n",
              "       width=\"24px\">\n",
              "    <path d=\"M0 0h24v24H0V0z\" fill=\"none\"/>\n",
              "    <path d=\"M18.56 5.44l.94 2.06.94-2.06 2.06-.94-2.06-.94-.94-2.06-.94 2.06-2.06.94zm-11 1L8.5 8.5l.94-2.06 2.06-.94-2.06-.94L8.5 2.5l-.94 2.06-2.06.94zm10 10l.94 2.06.94-2.06 2.06-.94-2.06-.94-.94-2.06-.94 2.06-2.06.94z\"/><path d=\"M17.41 7.96l-1.37-1.37c-.4-.4-.92-.59-1.43-.59-.52 0-1.04.2-1.43.59L10.3 9.45l-7.72 7.72c-.78.78-.78 2.05 0 2.83L4 21.41c.39.39.9.59 1.41.59.51 0 1.02-.2 1.41-.59l7.78-7.78 2.81-2.81c.8-.78.8-2.07 0-2.86zM5.41 20L4 18.59l7.72-7.72 1.47 1.35L5.41 20z\"/>\n",
              "  </svg>\n",
              "      </button>\n",
              "      \n",
              "  <style>\n",
              "    .colab-df-container {\n",
              "      display:flex;\n",
              "      flex-wrap:wrap;\n",
              "      gap: 12px;\n",
              "    }\n",
              "\n",
              "    .colab-df-convert {\n",
              "      background-color: #E8F0FE;\n",
              "      border: none;\n",
              "      border-radius: 50%;\n",
              "      cursor: pointer;\n",
              "      display: none;\n",
              "      fill: #1967D2;\n",
              "      height: 32px;\n",
              "      padding: 0 0 0 0;\n",
              "      width: 32px;\n",
              "    }\n",
              "\n",
              "    .colab-df-convert:hover {\n",
              "      background-color: #E2EBFA;\n",
              "      box-shadow: 0px 1px 2px rgba(60, 64, 67, 0.3), 0px 1px 3px 1px rgba(60, 64, 67, 0.15);\n",
              "      fill: #174EA6;\n",
              "    }\n",
              "\n",
              "    [theme=dark] .colab-df-convert {\n",
              "      background-color: #3B4455;\n",
              "      fill: #D2E3FC;\n",
              "    }\n",
              "\n",
              "    [theme=dark] .colab-df-convert:hover {\n",
              "      background-color: #434B5C;\n",
              "      box-shadow: 0px 1px 3px 1px rgba(0, 0, 0, 0.15);\n",
              "      filter: drop-shadow(0px 1px 2px rgba(0, 0, 0, 0.3));\n",
              "      fill: #FFFFFF;\n",
              "    }\n",
              "  </style>\n",
              "\n",
              "      <script>\n",
              "        const buttonEl =\n",
              "          document.querySelector('#df-9ee441bb-4f4f-426a-90db-2c5ecf586113 button.colab-df-convert');\n",
              "        buttonEl.style.display =\n",
              "          google.colab.kernel.accessAllowed ? 'block' : 'none';\n",
              "\n",
              "        async function convertToInteractive(key) {\n",
              "          const element = document.querySelector('#df-9ee441bb-4f4f-426a-90db-2c5ecf586113');\n",
              "          const dataTable =\n",
              "            await google.colab.kernel.invokeFunction('convertToInteractive',\n",
              "                                                     [key], {});\n",
              "          if (!dataTable) return;\n",
              "\n",
              "          const docLinkHtml = 'Like what you see? Visit the ' +\n",
              "            '<a target=\"_blank\" href=https://colab.research.google.com/notebooks/data_table.ipynb>data table notebook</a>'\n",
              "            + ' to learn more about interactive tables.';\n",
              "          element.innerHTML = '';\n",
              "          dataTable['output_type'] = 'display_data';\n",
              "          await google.colab.output.renderOutput(dataTable, element);\n",
              "          const docLink = document.createElement('div');\n",
              "          docLink.innerHTML = docLinkHtml;\n",
              "          element.appendChild(docLink);\n",
              "        }\n",
              "      </script>\n",
              "    </div>\n",
              "  </div>\n",
              "  "
            ]
          },
          "metadata": {},
          "execution_count": 1044
        }
      ],
      "source": [
        "census_df.describe()"
      ]
    },
    {
      "cell_type": "code",
      "execution_count": 1045,
      "metadata": {
        "id": "yCOfXGfL-mME"
      },
      "outputs": [],
      "source": [
        "attrib, counts = np.unique(census_df['workclass'], return_counts = True)\n",
        "most_freq_attrib = attrib[np.argmax(counts, axis = 0)]\n",
        "census_df['workclass'][census_df['workclass'] == '?'] = most_freq_attrib \n",
        "\n",
        "attrib, counts = np.unique(census_df['occupation'], return_counts = True)\n",
        "most_freq_attrib = attrib[np.argmax(counts, axis = 0)]\n",
        "census_df['occupation'][census_df['occupation'] == '?'] = most_freq_attrib \n",
        "\n",
        "attrib, counts = np.unique(census_df['native-country'], return_counts = True)\n",
        "most_freq_attrib = attrib[np.argmax(counts, axis = 0)]\n",
        "census_df['native-country'][census_df['native-country'] == '?'] = most_freq_attrib "
      ]
    },
    {
      "cell_type": "markdown",
      "source": [
        "The missing values are assigned the most frequent attribute respectively using mode."
      ],
      "metadata": {
        "id": "hRJvgELG8nct"
      }
    },
    {
      "cell_type": "code",
      "execution_count": 1046,
      "metadata": {
        "colab": {
          "base_uri": "https://localhost:8080/",
          "height": 1000
        },
        "id": "p7f9nyp6-zfw",
        "outputId": "c8e9feaa-29d5-4c2b-c25b-fd110a72bb70"
      },
      "outputs": [
        {
          "output_type": "execute_result",
          "data": {
            "text/plain": [
              "    age         workclass  fnlwgt     education  education-num  \\\n",
              "0    39         State-gov   77516     Bachelors             13   \n",
              "1    50  Self-emp-not-inc   83311     Bachelors             13   \n",
              "2    38           Private  215646       HS-grad              9   \n",
              "3    53           Private  234721          11th              7   \n",
              "4    28           Private  338409     Bachelors             13   \n",
              "5    37           Private  284582       Masters             14   \n",
              "6    49           Private  160187           9th              5   \n",
              "7    52  Self-emp-not-inc  209642       HS-grad              9   \n",
              "8    31           Private   45781       Masters             14   \n",
              "9    42           Private  159449     Bachelors             13   \n",
              "10   37           Private  280464  Some-college             10   \n",
              "11   30         State-gov  141297     Bachelors             13   \n",
              "12   23           Private  122272     Bachelors             13   \n",
              "13   32           Private  205019    Assoc-acdm             12   \n",
              "14   40           Private  121772     Assoc-voc             11   \n",
              "15   34           Private  245487       7th-8th              4   \n",
              "16   25  Self-emp-not-inc  176756       HS-grad              9   \n",
              "17   32           Private  186824       HS-grad              9   \n",
              "18   38           Private   28887          11th              7   \n",
              "19   43  Self-emp-not-inc  292175       Masters             14   \n",
              "20   40           Private  193524     Doctorate             16   \n",
              "21   54           Private  302146       HS-grad              9   \n",
              "22   35       Federal-gov   76845           9th              5   \n",
              "23   43           Private  117037          11th              7   \n",
              "24   59           Private  109015       HS-grad              9   \n",
              "25   56         Local-gov  216851     Bachelors             13   \n",
              "26   19           Private  168294       HS-grad              9   \n",
              "27   54           Private  180211  Some-college             10   \n",
              "28   39           Private  367260       HS-grad              9   \n",
              "29   49           Private  193366       HS-grad              9   \n",
              "\n",
              "           marital-status         occupation   relationship  \\\n",
              "0           Never-married       Adm-clerical  Not-in-family   \n",
              "1      Married-civ-spouse    Exec-managerial        Husband   \n",
              "2                Divorced  Handlers-cleaners  Not-in-family   \n",
              "3      Married-civ-spouse  Handlers-cleaners        Husband   \n",
              "4      Married-civ-spouse     Prof-specialty           Wife   \n",
              "5      Married-civ-spouse    Exec-managerial           Wife   \n",
              "6   Married-spouse-absent      Other-service  Not-in-family   \n",
              "7      Married-civ-spouse    Exec-managerial        Husband   \n",
              "8           Never-married     Prof-specialty  Not-in-family   \n",
              "9      Married-civ-spouse    Exec-managerial        Husband   \n",
              "10     Married-civ-spouse    Exec-managerial        Husband   \n",
              "11     Married-civ-spouse     Prof-specialty        Husband   \n",
              "12          Never-married       Adm-clerical      Own-child   \n",
              "13          Never-married              Sales  Not-in-family   \n",
              "14     Married-civ-spouse       Craft-repair        Husband   \n",
              "15     Married-civ-spouse   Transport-moving        Husband   \n",
              "16          Never-married    Farming-fishing      Own-child   \n",
              "17          Never-married  Machine-op-inspct      Unmarried   \n",
              "18     Married-civ-spouse              Sales        Husband   \n",
              "19               Divorced    Exec-managerial      Unmarried   \n",
              "20     Married-civ-spouse     Prof-specialty        Husband   \n",
              "21              Separated      Other-service      Unmarried   \n",
              "22     Married-civ-spouse    Farming-fishing        Husband   \n",
              "23     Married-civ-spouse   Transport-moving        Husband   \n",
              "24               Divorced       Tech-support      Unmarried   \n",
              "25     Married-civ-spouse       Tech-support        Husband   \n",
              "26          Never-married       Craft-repair      Own-child   \n",
              "27     Married-civ-spouse     Prof-specialty        Husband   \n",
              "28               Divorced    Exec-managerial  Not-in-family   \n",
              "29     Married-civ-spouse       Craft-repair        Husband   \n",
              "\n",
              "                  race     sex  capital-gain  capital-loss  hours-per-week  \\\n",
              "0                White    Male          2174             0              40   \n",
              "1                White    Male             0             0              13   \n",
              "2                White    Male             0             0              40   \n",
              "3                Black    Male             0             0              40   \n",
              "4                Black  Female             0             0              40   \n",
              "5                White  Female             0             0              40   \n",
              "6                Black  Female             0             0              16   \n",
              "7                White    Male             0             0              45   \n",
              "8                White  Female         14084             0              50   \n",
              "9                White    Male          5178             0              40   \n",
              "10               Black    Male             0             0              80   \n",
              "11  Asian-Pac-Islander    Male             0             0              40   \n",
              "12               White  Female             0             0              30   \n",
              "13               Black    Male             0             0              50   \n",
              "14  Asian-Pac-Islander    Male             0             0              40   \n",
              "15  Amer-Indian-Eskimo    Male             0             0              45   \n",
              "16               White    Male             0             0              35   \n",
              "17               White    Male             0             0              40   \n",
              "18               White    Male             0             0              50   \n",
              "19               White  Female             0             0              45   \n",
              "20               White    Male             0             0              60   \n",
              "21               Black  Female             0             0              20   \n",
              "22               Black    Male             0             0              40   \n",
              "23               White    Male             0          2042              40   \n",
              "24               White  Female             0             0              40   \n",
              "25               White    Male             0             0              40   \n",
              "26               White    Male             0             0              40   \n",
              "27  Asian-Pac-Islander    Male             0             0              60   \n",
              "28               White    Male             0             0              80   \n",
              "29               White    Male             0             0              40   \n",
              "\n",
              "   native-country income  \n",
              "0   United-States  <=50K  \n",
              "1   United-States  <=50K  \n",
              "2   United-States  <=50K  \n",
              "3   United-States  <=50K  \n",
              "4            Cuba  <=50K  \n",
              "5   United-States  <=50K  \n",
              "6         Jamaica  <=50K  \n",
              "7   United-States   >50K  \n",
              "8   United-States   >50K  \n",
              "9   United-States   >50K  \n",
              "10  United-States   >50K  \n",
              "11          India   >50K  \n",
              "12  United-States  <=50K  \n",
              "13  United-States  <=50K  \n",
              "14  United-States   >50K  \n",
              "15         Mexico  <=50K  \n",
              "16  United-States  <=50K  \n",
              "17  United-States  <=50K  \n",
              "18  United-States  <=50K  \n",
              "19  United-States   >50K  \n",
              "20  United-States   >50K  \n",
              "21  United-States  <=50K  \n",
              "22  United-States  <=50K  \n",
              "23  United-States  <=50K  \n",
              "24  United-States  <=50K  \n",
              "25  United-States   >50K  \n",
              "26  United-States  <=50K  \n",
              "27          South   >50K  \n",
              "28  United-States  <=50K  \n",
              "29  United-States  <=50K  "
            ],
            "text/html": [
              "\n",
              "  <div id=\"df-0b065058-7649-4e29-be1f-73926c53de7d\">\n",
              "    <div class=\"colab-df-container\">\n",
              "      <div>\n",
              "<style scoped>\n",
              "    .dataframe tbody tr th:only-of-type {\n",
              "        vertical-align: middle;\n",
              "    }\n",
              "\n",
              "    .dataframe tbody tr th {\n",
              "        vertical-align: top;\n",
              "    }\n",
              "\n",
              "    .dataframe thead th {\n",
              "        text-align: right;\n",
              "    }\n",
              "</style>\n",
              "<table border=\"1\" class=\"dataframe\">\n",
              "  <thead>\n",
              "    <tr style=\"text-align: right;\">\n",
              "      <th></th>\n",
              "      <th>age</th>\n",
              "      <th>workclass</th>\n",
              "      <th>fnlwgt</th>\n",
              "      <th>education</th>\n",
              "      <th>education-num</th>\n",
              "      <th>marital-status</th>\n",
              "      <th>occupation</th>\n",
              "      <th>relationship</th>\n",
              "      <th>race</th>\n",
              "      <th>sex</th>\n",
              "      <th>capital-gain</th>\n",
              "      <th>capital-loss</th>\n",
              "      <th>hours-per-week</th>\n",
              "      <th>native-country</th>\n",
              "      <th>income</th>\n",
              "    </tr>\n",
              "  </thead>\n",
              "  <tbody>\n",
              "    <tr>\n",
              "      <th>0</th>\n",
              "      <td>39</td>\n",
              "      <td>State-gov</td>\n",
              "      <td>77516</td>\n",
              "      <td>Bachelors</td>\n",
              "      <td>13</td>\n",
              "      <td>Never-married</td>\n",
              "      <td>Adm-clerical</td>\n",
              "      <td>Not-in-family</td>\n",
              "      <td>White</td>\n",
              "      <td>Male</td>\n",
              "      <td>2174</td>\n",
              "      <td>0</td>\n",
              "      <td>40</td>\n",
              "      <td>United-States</td>\n",
              "      <td>&lt;=50K</td>\n",
              "    </tr>\n",
              "    <tr>\n",
              "      <th>1</th>\n",
              "      <td>50</td>\n",
              "      <td>Self-emp-not-inc</td>\n",
              "      <td>83311</td>\n",
              "      <td>Bachelors</td>\n",
              "      <td>13</td>\n",
              "      <td>Married-civ-spouse</td>\n",
              "      <td>Exec-managerial</td>\n",
              "      <td>Husband</td>\n",
              "      <td>White</td>\n",
              "      <td>Male</td>\n",
              "      <td>0</td>\n",
              "      <td>0</td>\n",
              "      <td>13</td>\n",
              "      <td>United-States</td>\n",
              "      <td>&lt;=50K</td>\n",
              "    </tr>\n",
              "    <tr>\n",
              "      <th>2</th>\n",
              "      <td>38</td>\n",
              "      <td>Private</td>\n",
              "      <td>215646</td>\n",
              "      <td>HS-grad</td>\n",
              "      <td>9</td>\n",
              "      <td>Divorced</td>\n",
              "      <td>Handlers-cleaners</td>\n",
              "      <td>Not-in-family</td>\n",
              "      <td>White</td>\n",
              "      <td>Male</td>\n",
              "      <td>0</td>\n",
              "      <td>0</td>\n",
              "      <td>40</td>\n",
              "      <td>United-States</td>\n",
              "      <td>&lt;=50K</td>\n",
              "    </tr>\n",
              "    <tr>\n",
              "      <th>3</th>\n",
              "      <td>53</td>\n",
              "      <td>Private</td>\n",
              "      <td>234721</td>\n",
              "      <td>11th</td>\n",
              "      <td>7</td>\n",
              "      <td>Married-civ-spouse</td>\n",
              "      <td>Handlers-cleaners</td>\n",
              "      <td>Husband</td>\n",
              "      <td>Black</td>\n",
              "      <td>Male</td>\n",
              "      <td>0</td>\n",
              "      <td>0</td>\n",
              "      <td>40</td>\n",
              "      <td>United-States</td>\n",
              "      <td>&lt;=50K</td>\n",
              "    </tr>\n",
              "    <tr>\n",
              "      <th>4</th>\n",
              "      <td>28</td>\n",
              "      <td>Private</td>\n",
              "      <td>338409</td>\n",
              "      <td>Bachelors</td>\n",
              "      <td>13</td>\n",
              "      <td>Married-civ-spouse</td>\n",
              "      <td>Prof-specialty</td>\n",
              "      <td>Wife</td>\n",
              "      <td>Black</td>\n",
              "      <td>Female</td>\n",
              "      <td>0</td>\n",
              "      <td>0</td>\n",
              "      <td>40</td>\n",
              "      <td>Cuba</td>\n",
              "      <td>&lt;=50K</td>\n",
              "    </tr>\n",
              "    <tr>\n",
              "      <th>5</th>\n",
              "      <td>37</td>\n",
              "      <td>Private</td>\n",
              "      <td>284582</td>\n",
              "      <td>Masters</td>\n",
              "      <td>14</td>\n",
              "      <td>Married-civ-spouse</td>\n",
              "      <td>Exec-managerial</td>\n",
              "      <td>Wife</td>\n",
              "      <td>White</td>\n",
              "      <td>Female</td>\n",
              "      <td>0</td>\n",
              "      <td>0</td>\n",
              "      <td>40</td>\n",
              "      <td>United-States</td>\n",
              "      <td>&lt;=50K</td>\n",
              "    </tr>\n",
              "    <tr>\n",
              "      <th>6</th>\n",
              "      <td>49</td>\n",
              "      <td>Private</td>\n",
              "      <td>160187</td>\n",
              "      <td>9th</td>\n",
              "      <td>5</td>\n",
              "      <td>Married-spouse-absent</td>\n",
              "      <td>Other-service</td>\n",
              "      <td>Not-in-family</td>\n",
              "      <td>Black</td>\n",
              "      <td>Female</td>\n",
              "      <td>0</td>\n",
              "      <td>0</td>\n",
              "      <td>16</td>\n",
              "      <td>Jamaica</td>\n",
              "      <td>&lt;=50K</td>\n",
              "    </tr>\n",
              "    <tr>\n",
              "      <th>7</th>\n",
              "      <td>52</td>\n",
              "      <td>Self-emp-not-inc</td>\n",
              "      <td>209642</td>\n",
              "      <td>HS-grad</td>\n",
              "      <td>9</td>\n",
              "      <td>Married-civ-spouse</td>\n",
              "      <td>Exec-managerial</td>\n",
              "      <td>Husband</td>\n",
              "      <td>White</td>\n",
              "      <td>Male</td>\n",
              "      <td>0</td>\n",
              "      <td>0</td>\n",
              "      <td>45</td>\n",
              "      <td>United-States</td>\n",
              "      <td>&gt;50K</td>\n",
              "    </tr>\n",
              "    <tr>\n",
              "      <th>8</th>\n",
              "      <td>31</td>\n",
              "      <td>Private</td>\n",
              "      <td>45781</td>\n",
              "      <td>Masters</td>\n",
              "      <td>14</td>\n",
              "      <td>Never-married</td>\n",
              "      <td>Prof-specialty</td>\n",
              "      <td>Not-in-family</td>\n",
              "      <td>White</td>\n",
              "      <td>Female</td>\n",
              "      <td>14084</td>\n",
              "      <td>0</td>\n",
              "      <td>50</td>\n",
              "      <td>United-States</td>\n",
              "      <td>&gt;50K</td>\n",
              "    </tr>\n",
              "    <tr>\n",
              "      <th>9</th>\n",
              "      <td>42</td>\n",
              "      <td>Private</td>\n",
              "      <td>159449</td>\n",
              "      <td>Bachelors</td>\n",
              "      <td>13</td>\n",
              "      <td>Married-civ-spouse</td>\n",
              "      <td>Exec-managerial</td>\n",
              "      <td>Husband</td>\n",
              "      <td>White</td>\n",
              "      <td>Male</td>\n",
              "      <td>5178</td>\n",
              "      <td>0</td>\n",
              "      <td>40</td>\n",
              "      <td>United-States</td>\n",
              "      <td>&gt;50K</td>\n",
              "    </tr>\n",
              "    <tr>\n",
              "      <th>10</th>\n",
              "      <td>37</td>\n",
              "      <td>Private</td>\n",
              "      <td>280464</td>\n",
              "      <td>Some-college</td>\n",
              "      <td>10</td>\n",
              "      <td>Married-civ-spouse</td>\n",
              "      <td>Exec-managerial</td>\n",
              "      <td>Husband</td>\n",
              "      <td>Black</td>\n",
              "      <td>Male</td>\n",
              "      <td>0</td>\n",
              "      <td>0</td>\n",
              "      <td>80</td>\n",
              "      <td>United-States</td>\n",
              "      <td>&gt;50K</td>\n",
              "    </tr>\n",
              "    <tr>\n",
              "      <th>11</th>\n",
              "      <td>30</td>\n",
              "      <td>State-gov</td>\n",
              "      <td>141297</td>\n",
              "      <td>Bachelors</td>\n",
              "      <td>13</td>\n",
              "      <td>Married-civ-spouse</td>\n",
              "      <td>Prof-specialty</td>\n",
              "      <td>Husband</td>\n",
              "      <td>Asian-Pac-Islander</td>\n",
              "      <td>Male</td>\n",
              "      <td>0</td>\n",
              "      <td>0</td>\n",
              "      <td>40</td>\n",
              "      <td>India</td>\n",
              "      <td>&gt;50K</td>\n",
              "    </tr>\n",
              "    <tr>\n",
              "      <th>12</th>\n",
              "      <td>23</td>\n",
              "      <td>Private</td>\n",
              "      <td>122272</td>\n",
              "      <td>Bachelors</td>\n",
              "      <td>13</td>\n",
              "      <td>Never-married</td>\n",
              "      <td>Adm-clerical</td>\n",
              "      <td>Own-child</td>\n",
              "      <td>White</td>\n",
              "      <td>Female</td>\n",
              "      <td>0</td>\n",
              "      <td>0</td>\n",
              "      <td>30</td>\n",
              "      <td>United-States</td>\n",
              "      <td>&lt;=50K</td>\n",
              "    </tr>\n",
              "    <tr>\n",
              "      <th>13</th>\n",
              "      <td>32</td>\n",
              "      <td>Private</td>\n",
              "      <td>205019</td>\n",
              "      <td>Assoc-acdm</td>\n",
              "      <td>12</td>\n",
              "      <td>Never-married</td>\n",
              "      <td>Sales</td>\n",
              "      <td>Not-in-family</td>\n",
              "      <td>Black</td>\n",
              "      <td>Male</td>\n",
              "      <td>0</td>\n",
              "      <td>0</td>\n",
              "      <td>50</td>\n",
              "      <td>United-States</td>\n",
              "      <td>&lt;=50K</td>\n",
              "    </tr>\n",
              "    <tr>\n",
              "      <th>14</th>\n",
              "      <td>40</td>\n",
              "      <td>Private</td>\n",
              "      <td>121772</td>\n",
              "      <td>Assoc-voc</td>\n",
              "      <td>11</td>\n",
              "      <td>Married-civ-spouse</td>\n",
              "      <td>Craft-repair</td>\n",
              "      <td>Husband</td>\n",
              "      <td>Asian-Pac-Islander</td>\n",
              "      <td>Male</td>\n",
              "      <td>0</td>\n",
              "      <td>0</td>\n",
              "      <td>40</td>\n",
              "      <td>United-States</td>\n",
              "      <td>&gt;50K</td>\n",
              "    </tr>\n",
              "    <tr>\n",
              "      <th>15</th>\n",
              "      <td>34</td>\n",
              "      <td>Private</td>\n",
              "      <td>245487</td>\n",
              "      <td>7th-8th</td>\n",
              "      <td>4</td>\n",
              "      <td>Married-civ-spouse</td>\n",
              "      <td>Transport-moving</td>\n",
              "      <td>Husband</td>\n",
              "      <td>Amer-Indian-Eskimo</td>\n",
              "      <td>Male</td>\n",
              "      <td>0</td>\n",
              "      <td>0</td>\n",
              "      <td>45</td>\n",
              "      <td>Mexico</td>\n",
              "      <td>&lt;=50K</td>\n",
              "    </tr>\n",
              "    <tr>\n",
              "      <th>16</th>\n",
              "      <td>25</td>\n",
              "      <td>Self-emp-not-inc</td>\n",
              "      <td>176756</td>\n",
              "      <td>HS-grad</td>\n",
              "      <td>9</td>\n",
              "      <td>Never-married</td>\n",
              "      <td>Farming-fishing</td>\n",
              "      <td>Own-child</td>\n",
              "      <td>White</td>\n",
              "      <td>Male</td>\n",
              "      <td>0</td>\n",
              "      <td>0</td>\n",
              "      <td>35</td>\n",
              "      <td>United-States</td>\n",
              "      <td>&lt;=50K</td>\n",
              "    </tr>\n",
              "    <tr>\n",
              "      <th>17</th>\n",
              "      <td>32</td>\n",
              "      <td>Private</td>\n",
              "      <td>186824</td>\n",
              "      <td>HS-grad</td>\n",
              "      <td>9</td>\n",
              "      <td>Never-married</td>\n",
              "      <td>Machine-op-inspct</td>\n",
              "      <td>Unmarried</td>\n",
              "      <td>White</td>\n",
              "      <td>Male</td>\n",
              "      <td>0</td>\n",
              "      <td>0</td>\n",
              "      <td>40</td>\n",
              "      <td>United-States</td>\n",
              "      <td>&lt;=50K</td>\n",
              "    </tr>\n",
              "    <tr>\n",
              "      <th>18</th>\n",
              "      <td>38</td>\n",
              "      <td>Private</td>\n",
              "      <td>28887</td>\n",
              "      <td>11th</td>\n",
              "      <td>7</td>\n",
              "      <td>Married-civ-spouse</td>\n",
              "      <td>Sales</td>\n",
              "      <td>Husband</td>\n",
              "      <td>White</td>\n",
              "      <td>Male</td>\n",
              "      <td>0</td>\n",
              "      <td>0</td>\n",
              "      <td>50</td>\n",
              "      <td>United-States</td>\n",
              "      <td>&lt;=50K</td>\n",
              "    </tr>\n",
              "    <tr>\n",
              "      <th>19</th>\n",
              "      <td>43</td>\n",
              "      <td>Self-emp-not-inc</td>\n",
              "      <td>292175</td>\n",
              "      <td>Masters</td>\n",
              "      <td>14</td>\n",
              "      <td>Divorced</td>\n",
              "      <td>Exec-managerial</td>\n",
              "      <td>Unmarried</td>\n",
              "      <td>White</td>\n",
              "      <td>Female</td>\n",
              "      <td>0</td>\n",
              "      <td>0</td>\n",
              "      <td>45</td>\n",
              "      <td>United-States</td>\n",
              "      <td>&gt;50K</td>\n",
              "    </tr>\n",
              "    <tr>\n",
              "      <th>20</th>\n",
              "      <td>40</td>\n",
              "      <td>Private</td>\n",
              "      <td>193524</td>\n",
              "      <td>Doctorate</td>\n",
              "      <td>16</td>\n",
              "      <td>Married-civ-spouse</td>\n",
              "      <td>Prof-specialty</td>\n",
              "      <td>Husband</td>\n",
              "      <td>White</td>\n",
              "      <td>Male</td>\n",
              "      <td>0</td>\n",
              "      <td>0</td>\n",
              "      <td>60</td>\n",
              "      <td>United-States</td>\n",
              "      <td>&gt;50K</td>\n",
              "    </tr>\n",
              "    <tr>\n",
              "      <th>21</th>\n",
              "      <td>54</td>\n",
              "      <td>Private</td>\n",
              "      <td>302146</td>\n",
              "      <td>HS-grad</td>\n",
              "      <td>9</td>\n",
              "      <td>Separated</td>\n",
              "      <td>Other-service</td>\n",
              "      <td>Unmarried</td>\n",
              "      <td>Black</td>\n",
              "      <td>Female</td>\n",
              "      <td>0</td>\n",
              "      <td>0</td>\n",
              "      <td>20</td>\n",
              "      <td>United-States</td>\n",
              "      <td>&lt;=50K</td>\n",
              "    </tr>\n",
              "    <tr>\n",
              "      <th>22</th>\n",
              "      <td>35</td>\n",
              "      <td>Federal-gov</td>\n",
              "      <td>76845</td>\n",
              "      <td>9th</td>\n",
              "      <td>5</td>\n",
              "      <td>Married-civ-spouse</td>\n",
              "      <td>Farming-fishing</td>\n",
              "      <td>Husband</td>\n",
              "      <td>Black</td>\n",
              "      <td>Male</td>\n",
              "      <td>0</td>\n",
              "      <td>0</td>\n",
              "      <td>40</td>\n",
              "      <td>United-States</td>\n",
              "      <td>&lt;=50K</td>\n",
              "    </tr>\n",
              "    <tr>\n",
              "      <th>23</th>\n",
              "      <td>43</td>\n",
              "      <td>Private</td>\n",
              "      <td>117037</td>\n",
              "      <td>11th</td>\n",
              "      <td>7</td>\n",
              "      <td>Married-civ-spouse</td>\n",
              "      <td>Transport-moving</td>\n",
              "      <td>Husband</td>\n",
              "      <td>White</td>\n",
              "      <td>Male</td>\n",
              "      <td>0</td>\n",
              "      <td>2042</td>\n",
              "      <td>40</td>\n",
              "      <td>United-States</td>\n",
              "      <td>&lt;=50K</td>\n",
              "    </tr>\n",
              "    <tr>\n",
              "      <th>24</th>\n",
              "      <td>59</td>\n",
              "      <td>Private</td>\n",
              "      <td>109015</td>\n",
              "      <td>HS-grad</td>\n",
              "      <td>9</td>\n",
              "      <td>Divorced</td>\n",
              "      <td>Tech-support</td>\n",
              "      <td>Unmarried</td>\n",
              "      <td>White</td>\n",
              "      <td>Female</td>\n",
              "      <td>0</td>\n",
              "      <td>0</td>\n",
              "      <td>40</td>\n",
              "      <td>United-States</td>\n",
              "      <td>&lt;=50K</td>\n",
              "    </tr>\n",
              "    <tr>\n",
              "      <th>25</th>\n",
              "      <td>56</td>\n",
              "      <td>Local-gov</td>\n",
              "      <td>216851</td>\n",
              "      <td>Bachelors</td>\n",
              "      <td>13</td>\n",
              "      <td>Married-civ-spouse</td>\n",
              "      <td>Tech-support</td>\n",
              "      <td>Husband</td>\n",
              "      <td>White</td>\n",
              "      <td>Male</td>\n",
              "      <td>0</td>\n",
              "      <td>0</td>\n",
              "      <td>40</td>\n",
              "      <td>United-States</td>\n",
              "      <td>&gt;50K</td>\n",
              "    </tr>\n",
              "    <tr>\n",
              "      <th>26</th>\n",
              "      <td>19</td>\n",
              "      <td>Private</td>\n",
              "      <td>168294</td>\n",
              "      <td>HS-grad</td>\n",
              "      <td>9</td>\n",
              "      <td>Never-married</td>\n",
              "      <td>Craft-repair</td>\n",
              "      <td>Own-child</td>\n",
              "      <td>White</td>\n",
              "      <td>Male</td>\n",
              "      <td>0</td>\n",
              "      <td>0</td>\n",
              "      <td>40</td>\n",
              "      <td>United-States</td>\n",
              "      <td>&lt;=50K</td>\n",
              "    </tr>\n",
              "    <tr>\n",
              "      <th>27</th>\n",
              "      <td>54</td>\n",
              "      <td>Private</td>\n",
              "      <td>180211</td>\n",
              "      <td>Some-college</td>\n",
              "      <td>10</td>\n",
              "      <td>Married-civ-spouse</td>\n",
              "      <td>Prof-specialty</td>\n",
              "      <td>Husband</td>\n",
              "      <td>Asian-Pac-Islander</td>\n",
              "      <td>Male</td>\n",
              "      <td>0</td>\n",
              "      <td>0</td>\n",
              "      <td>60</td>\n",
              "      <td>South</td>\n",
              "      <td>&gt;50K</td>\n",
              "    </tr>\n",
              "    <tr>\n",
              "      <th>28</th>\n",
              "      <td>39</td>\n",
              "      <td>Private</td>\n",
              "      <td>367260</td>\n",
              "      <td>HS-grad</td>\n",
              "      <td>9</td>\n",
              "      <td>Divorced</td>\n",
              "      <td>Exec-managerial</td>\n",
              "      <td>Not-in-family</td>\n",
              "      <td>White</td>\n",
              "      <td>Male</td>\n",
              "      <td>0</td>\n",
              "      <td>0</td>\n",
              "      <td>80</td>\n",
              "      <td>United-States</td>\n",
              "      <td>&lt;=50K</td>\n",
              "    </tr>\n",
              "    <tr>\n",
              "      <th>29</th>\n",
              "      <td>49</td>\n",
              "      <td>Private</td>\n",
              "      <td>193366</td>\n",
              "      <td>HS-grad</td>\n",
              "      <td>9</td>\n",
              "      <td>Married-civ-spouse</td>\n",
              "      <td>Craft-repair</td>\n",
              "      <td>Husband</td>\n",
              "      <td>White</td>\n",
              "      <td>Male</td>\n",
              "      <td>0</td>\n",
              "      <td>0</td>\n",
              "      <td>40</td>\n",
              "      <td>United-States</td>\n",
              "      <td>&lt;=50K</td>\n",
              "    </tr>\n",
              "  </tbody>\n",
              "</table>\n",
              "</div>\n",
              "      <button class=\"colab-df-convert\" onclick=\"convertToInteractive('df-0b065058-7649-4e29-be1f-73926c53de7d')\"\n",
              "              title=\"Convert this dataframe to an interactive table.\"\n",
              "              style=\"display:none;\">\n",
              "        \n",
              "  <svg xmlns=\"http://www.w3.org/2000/svg\" height=\"24px\"viewBox=\"0 0 24 24\"\n",
              "       width=\"24px\">\n",
              "    <path d=\"M0 0h24v24H0V0z\" fill=\"none\"/>\n",
              "    <path d=\"M18.56 5.44l.94 2.06.94-2.06 2.06-.94-2.06-.94-.94-2.06-.94 2.06-2.06.94zm-11 1L8.5 8.5l.94-2.06 2.06-.94-2.06-.94L8.5 2.5l-.94 2.06-2.06.94zm10 10l.94 2.06.94-2.06 2.06-.94-2.06-.94-.94-2.06-.94 2.06-2.06.94z\"/><path d=\"M17.41 7.96l-1.37-1.37c-.4-.4-.92-.59-1.43-.59-.52 0-1.04.2-1.43.59L10.3 9.45l-7.72 7.72c-.78.78-.78 2.05 0 2.83L4 21.41c.39.39.9.59 1.41.59.51 0 1.02-.2 1.41-.59l7.78-7.78 2.81-2.81c.8-.78.8-2.07 0-2.86zM5.41 20L4 18.59l7.72-7.72 1.47 1.35L5.41 20z\"/>\n",
              "  </svg>\n",
              "      </button>\n",
              "      \n",
              "  <style>\n",
              "    .colab-df-container {\n",
              "      display:flex;\n",
              "      flex-wrap:wrap;\n",
              "      gap: 12px;\n",
              "    }\n",
              "\n",
              "    .colab-df-convert {\n",
              "      background-color: #E8F0FE;\n",
              "      border: none;\n",
              "      border-radius: 50%;\n",
              "      cursor: pointer;\n",
              "      display: none;\n",
              "      fill: #1967D2;\n",
              "      height: 32px;\n",
              "      padding: 0 0 0 0;\n",
              "      width: 32px;\n",
              "    }\n",
              "\n",
              "    .colab-df-convert:hover {\n",
              "      background-color: #E2EBFA;\n",
              "      box-shadow: 0px 1px 2px rgba(60, 64, 67, 0.3), 0px 1px 3px 1px rgba(60, 64, 67, 0.15);\n",
              "      fill: #174EA6;\n",
              "    }\n",
              "\n",
              "    [theme=dark] .colab-df-convert {\n",
              "      background-color: #3B4455;\n",
              "      fill: #D2E3FC;\n",
              "    }\n",
              "\n",
              "    [theme=dark] .colab-df-convert:hover {\n",
              "      background-color: #434B5C;\n",
              "      box-shadow: 0px 1px 3px 1px rgba(0, 0, 0, 0.15);\n",
              "      filter: drop-shadow(0px 1px 2px rgba(0, 0, 0, 0.3));\n",
              "      fill: #FFFFFF;\n",
              "    }\n",
              "  </style>\n",
              "\n",
              "      <script>\n",
              "        const buttonEl =\n",
              "          document.querySelector('#df-0b065058-7649-4e29-be1f-73926c53de7d button.colab-df-convert');\n",
              "        buttonEl.style.display =\n",
              "          google.colab.kernel.accessAllowed ? 'block' : 'none';\n",
              "\n",
              "        async function convertToInteractive(key) {\n",
              "          const element = document.querySelector('#df-0b065058-7649-4e29-be1f-73926c53de7d');\n",
              "          const dataTable =\n",
              "            await google.colab.kernel.invokeFunction('convertToInteractive',\n",
              "                                                     [key], {});\n",
              "          if (!dataTable) return;\n",
              "\n",
              "          const docLinkHtml = 'Like what you see? Visit the ' +\n",
              "            '<a target=\"_blank\" href=https://colab.research.google.com/notebooks/data_table.ipynb>data table notebook</a>'\n",
              "            + ' to learn more about interactive tables.';\n",
              "          element.innerHTML = '';\n",
              "          dataTable['output_type'] = 'display_data';\n",
              "          await google.colab.output.renderOutput(dataTable, element);\n",
              "          const docLink = document.createElement('div');\n",
              "          docLink.innerHTML = docLinkHtml;\n",
              "          element.appendChild(docLink);\n",
              "        }\n",
              "      </script>\n",
              "    </div>\n",
              "  </div>\n",
              "  "
            ]
          },
          "metadata": {},
          "execution_count": 1046
        }
      ],
      "source": [
        "census_df.head(30)"
      ]
    },
    {
      "cell_type": "markdown",
      "source": [
        "# Exploratory Data Analysis"
      ],
      "metadata": {
        "id": "XBbEWxWY7hze"
      }
    },
    {
      "cell_type": "code",
      "execution_count": 1047,
      "metadata": {
        "colab": {
          "base_uri": "https://localhost:8080/",
          "height": 187
        },
        "id": "zEDgl7caZJUH",
        "outputId": "12b23e03-0267-4d7a-8250-240954ae4fd8"
      },
      "outputs": [
        {
          "output_type": "execute_result",
          "data": {
            "text/plain": [
              "<AxesSubplot:xlabel='count', ylabel='income'>"
            ]
          },
          "metadata": {},
          "execution_count": 1047
        },
        {
          "output_type": "display_data",
          "data": {
            "text/plain": [
              "<Figure size 1080x144 with 1 Axes>"
            ],
            "image/png": "[encoded data removed]"
          },
          "metadata": {
            "needs_background": "light"
          }
        }
      ],
      "source": [
        "plt.figure(figsize=(15,2))\n",
        "plt.style.use('ggplot')\n",
        "sns.countplot(y=\"income\", data=census_df)"
      ]
    },
    {
      "cell_type": "code",
      "execution_count": 1048,
      "metadata": {
        "colab": {
          "base_uri": "https://localhost:8080/",
          "height": 347
        },
        "id": "aCBVnzo-AnBw",
        "outputId": "3daaa0aa-2c3b-45c1-9e5c-e824dc270b3d"
      },
      "outputs": [
        {
          "output_type": "display_data",
          "data": {
            "text/plain": [
              "<Figure size 360x360 with 1 Axes>"
            ],
            "image/png": "[encoded data removed]"
          },
          "metadata": {}
        }
      ],
      "source": [
        "plt.figure(figsize=(5,5))\n",
        "plt.title('Income Distribution', fontsize=12)\n",
        "income_perc = census_df['income'].value_counts(normalize = True).rename_axis('Income').reset_index(name = 'Percentage')\n",
        "\n",
        "perc = sns.barplot(x = 'Income', y = 'Percentage', data = income_perc.head(2), palette='icefire')\n",
        "for p in perc.patches:\n",
        "    width = p.get_width()\n",
        "    height = p.get_height()\n",
        "    x, y = p.get_xy() \n",
        "    perc.annotate(f'{height:.1%}', (x + width/2, y + height*1.01), ha='center')"
      ]
    },
    {
      "cell_type": "code",
      "execution_count": 1049,
      "metadata": {
        "colab": {
          "base_uri": "https://localhost:8080/",
          "height": 112
        },
        "id": "wuuNO06kMVwE",
        "outputId": "87b82604-5f4e-4f28-afca-a46ba24ef13c"
      },
      "outputs": [
        {
          "output_type": "execute_result",
          "data": {
            "text/plain": [
              "  Income  Percentage\n",
              "0  <=50K     0.75919\n",
              "1   >50K     0.24081"
            ],
            "text/html": [
              "\n",
              "  <div id=\"df-1f4fb175-dc9b-4223-ba6a-3a8b7de63bc3\">\n",
              "    <div class=\"colab-df-container\">\n",
              "      <div>\n",
              "<style scoped>\n",
              "    .dataframe tbody tr th:only-of-type {\n",
              "        vertical-align: middle;\n",
              "    }\n",
              "\n",
              "    .dataframe tbody tr th {\n",
              "        vertical-align: top;\n",
              "    }\n",
              "\n",
              "    .dataframe thead th {\n",
              "        text-align: right;\n",
              "    }\n",
              "</style>\n",
              "<table border=\"1\" class=\"dataframe\">\n",
              "  <thead>\n",
              "    <tr style=\"text-align: right;\">\n",
              "      <th></th>\n",
              "      <th>Income</th>\n",
              "      <th>Percentage</th>\n",
              "    </tr>\n",
              "  </thead>\n",
              "  <tbody>\n",
              "    <tr>\n",
              "      <th>0</th>\n",
              "      <td>&lt;=50K</td>\n",
              "      <td>0.75919</td>\n",
              "    </tr>\n",
              "    <tr>\n",
              "      <th>1</th>\n",
              "      <td>&gt;50K</td>\n",
              "      <td>0.24081</td>\n",
              "    </tr>\n",
              "  </tbody>\n",
              "</table>\n",
              "</div>\n",
              "      <button class=\"colab-df-convert\" onclick=\"convertToInteractive('df-1f4fb175-dc9b-4223-ba6a-3a8b7de63bc3')\"\n",
              "              title=\"Convert this dataframe to an interactive table.\"\n",
              "              style=\"display:none;\">\n",
              "        \n",
              "  <svg xmlns=\"http://www.w3.org/2000/svg\" height=\"24px\"viewBox=\"0 0 24 24\"\n",
              "       width=\"24px\">\n",
              "    <path d=\"M0 0h24v24H0V0z\" fill=\"none\"/>\n",
              "    <path d=\"M18.56 5.44l.94 2.06.94-2.06 2.06-.94-2.06-.94-.94-2.06-.94 2.06-2.06.94zm-11 1L8.5 8.5l.94-2.06 2.06-.94-2.06-.94L8.5 2.5l-.94 2.06-2.06.94zm10 10l.94 2.06.94-2.06 2.06-.94-2.06-.94-.94-2.06-.94 2.06-2.06.94z\"/><path d=\"M17.41 7.96l-1.37-1.37c-.4-.4-.92-.59-1.43-.59-.52 0-1.04.2-1.43.59L10.3 9.45l-7.72 7.72c-.78.78-.78 2.05 0 2.83L4 21.41c.39.39.9.59 1.41.59.51 0 1.02-.2 1.41-.59l7.78-7.78 2.81-2.81c.8-.78.8-2.07 0-2.86zM5.41 20L4 18.59l7.72-7.72 1.47 1.35L5.41 20z\"/>\n",
              "  </svg>\n",
              "      </button>\n",
              "      \n",
              "  <style>\n",
              "    .colab-df-container {\n",
              "      display:flex;\n",
              "      flex-wrap:wrap;\n",
              "      gap: 12px;\n",
              "    }\n",
              "\n",
              "    .colab-df-convert {\n",
              "      background-color: #E8F0FE;\n",
              "      border: none;\n",
              "      border-radius: 50%;\n",
              "      cursor: pointer;\n",
              "      display: none;\n",
              "      fill: #1967D2;\n",
              "      height: 32px;\n",
              "      padding: 0 0 0 0;\n",
              "      width: 32px;\n",
              "    }\n",
              "\n",
              "    .colab-df-convert:hover {\n",
              "      background-color: #E2EBFA;\n",
              "      box-shadow: 0px 1px 2px rgba(60, 64, 67, 0.3), 0px 1px 3px 1px rgba(60, 64, 67, 0.15);\n",
              "      fill: #174EA6;\n",
              "    }\n",
              "\n",
              "    [theme=dark] .colab-df-convert {\n",
              "      background-color: #3B4455;\n",
              "      fill: #D2E3FC;\n",
              "    }\n",
              "\n",
              "    [theme=dark] .colab-df-convert:hover {\n",
              "      background-color: #434B5C;\n",
              "      box-shadow: 0px 1px 3px 1px rgba(0, 0, 0, 0.15);\n",
              "      filter: drop-shadow(0px 1px 2px rgba(0, 0, 0, 0.3));\n",
              "      fill: #FFFFFF;\n",
              "    }\n",
              "  </style>\n",
              "\n",
              "      <script>\n",
              "        const buttonEl =\n",
              "          document.querySelector('#df-1f4fb175-dc9b-4223-ba6a-3a8b7de63bc3 button.colab-df-convert');\n",
              "        buttonEl.style.display =\n",
              "          google.colab.kernel.accessAllowed ? 'block' : 'none';\n",
              "\n",
              "        async function convertToInteractive(key) {\n",
              "          const element = document.querySelector('#df-1f4fb175-dc9b-4223-ba6a-3a8b7de63bc3');\n",
              "          const dataTable =\n",
              "            await google.colab.kernel.invokeFunction('convertToInteractive',\n",
              "                                                     [key], {});\n",
              "          if (!dataTable) return;\n",
              "\n",
              "          const docLinkHtml = 'Like what you see? Visit the ' +\n",
              "            '<a target=\"_blank\" href=https://colab.research.google.com/notebooks/data_table.ipynb>data table notebook</a>'\n",
              "            + ' to learn more about interactive tables.';\n",
              "          element.innerHTML = '';\n",
              "          dataTable['output_type'] = 'display_data';\n",
              "          await google.colab.output.renderOutput(dataTable, element);\n",
              "          const docLink = document.createElement('div');\n",
              "          docLink.innerHTML = docLinkHtml;\n",
              "          element.appendChild(docLink);\n",
              "        }\n",
              "      </script>\n",
              "    </div>\n",
              "  </div>\n",
              "  "
            ]
          },
          "metadata": {},
          "execution_count": 1049
        }
      ],
      "source": [
        "income_perc"
      ]
    },
    {
      "cell_type": "markdown",
      "metadata": {
        "id": "O2DYNElKbMTR"
      },
      "source": [
        "Income level less than 50K is more than 3 times of those over 50K, showing that the the dataset is slightly biased."
      ]
    },
    {
      "cell_type": "code",
      "execution_count": 1050,
      "metadata": {
        "id": "x5cBHZZ8cusj"
      },
      "outputs": [],
      "source": [
        "def AgeGroup(x):\n",
        "    x = int(x)\n",
        "    x = abs(x)\n",
        "    if( 18 < x < 31 ):\n",
        "        return \"19-30\"\n",
        "    if( 30 < x < 41 ):\n",
        "        return \"31-40\"\n",
        "    if( 40 < x < 51 ):\n",
        "        return \"41-50\"\n",
        "    if( 50 < x < 61 ):\n",
        "        return \"51-60\"\n",
        "    if( 60 < x < 71 ):\n",
        "        return \"61-70\"\n",
        "    else:\n",
        "        return \"70+\"\n",
        "\n",
        "census_df['AgeGroup'] = census_df['age'].apply(AgeGroup)\n",
        "  "
      ]
    },
    {
      "cell_type": "code",
      "execution_count": 1051,
      "metadata": {
        "colab": {
          "base_uri": "https://localhost:8080/",
          "height": 367
        },
        "id": "l4w_3cnXca2y",
        "outputId": "cd572678-07ee-4d78-c8c3-edd8b8a66e76"
      },
      "outputs": [
        {
          "output_type": "execute_result",
          "data": {
            "text/plain": [
              "<matplotlib.legend.Legend at 0x7f91ab102a90>"
            ]
          },
          "metadata": {},
          "execution_count": 1051
        },
        {
          "output_type": "display_data",
          "data": {
            "text/plain": [
              "<Figure size 576x360 with 1 Axes>"
            ],
            "image/png": "[encoded data removed]"
          },
          "metadata": {}
        }
      ],
      "source": [
        "plt.figure(figsize=(8,5))\n",
        "age_ol = ['19-30', '31-40', '41-50', '51-60', '61-70', '70+']\n",
        "sns.countplot(census_df['AgeGroup'], hue = census_df['income'], palette='Pastel1', order = age_ol)\n",
        "plt.title('Income As Per Different Age Groups', fontsize=12)\n",
        "plt.xticks(fontsize=12)\n",
        "plt.yticks(fontsize=12)\n",
        "plt.legend(fontsize=12)"
      ]
    },
    {
      "cell_type": "markdown",
      "source": [
        "Up until a certain point, we see that the proportion of those earning more than $50,000 grows with age."
      ],
      "metadata": {
        "id": "rM9I3kYP975p"
      }
    },
    {
      "cell_type": "code",
      "execution_count": 1052,
      "metadata": {
        "colab": {
          "base_uri": "https://localhost:8080/",
          "height": 445
        },
        "id": "f7-DtLBNgWLf",
        "outputId": "2b97fe1b-5cac-415d-9cf7-78bc4d309542"
      },
      "outputs": [
        {
          "output_type": "execute_result",
          "data": {
            "text/plain": [
              "<matplotlib.legend.Legend at 0x7f91ad293bb0>"
            ]
          },
          "metadata": {},
          "execution_count": 1052
        },
        {
          "output_type": "display_data",
          "data": {
            "text/plain": [
              "<Figure size 720x360 with 1 Axes>"
            ],
            "image/png": "[encoded data removed]"
          },
          "metadata": {}
        }
      ],
      "source": [
        "plt.figure(figsize=(10,5))\n",
        "plt.title('Income As Per Different Working CLasses')\n",
        "sns.countplot(census_df['workclass'], hue = census_df['income'], palette = 'Pastel2_r')\n",
        "plt.xticks(fontsize=12,rotation = 90)\n",
        "plt.yticks(fontsize=12)\n",
        "plt.legend(fontsize=10)"
      ]
    },
    {
      "cell_type": "markdown",
      "source": [
        "Only in the self-employed group do persons making more than $50,000 per year outnumber those making less. It can be helpful to imply that managing your own successful business may increase your chances of earning more money."
      ],
      "metadata": {
        "id": "IcODk7c0-SHx"
      }
    },
    {
      "cell_type": "code",
      "execution_count": 1053,
      "metadata": {
        "id": "0Sh69Wb0cQnB"
      },
      "outputs": [],
      "source": [
        "census_df['education'].replace('Preschool', 'HS',inplace=True)\n",
        "census_df['education'].replace('10th', 'HS',inplace=True)\n",
        "census_df['education'].replace('11th', 'HS',inplace=True)\n",
        "census_df['education'].replace('12th', 'HS',inplace=True)\n",
        "census_df['education'].replace('1st-4th', 'HS',inplace=True)\n",
        "census_df['education'].replace('5th-6th', 'HS',inplace=True)\n",
        "census_df['education'].replace('7th-8th', 'HS',inplace=True)\n",
        "census_df['education'].replace('9th', 'HS',inplace=True)"
      ]
    },
    {
      "cell_type": "code",
      "execution_count": 1054,
      "metadata": {
        "colab": {
          "base_uri": "https://localhost:8080/",
          "height": 332
        },
        "id": "XepA-XiXbZw_",
        "outputId": "b1ace8d6-302e-4356-d67e-2d39e1c32725"
      },
      "outputs": [
        {
          "output_type": "execute_result",
          "data": {
            "text/plain": [
              "      education  education-num\n",
              "4            HS       5.602398\n",
              "5       HS-grad       9.000000\n",
              "8  Some-college      10.000000\n",
              "1     Assoc-voc      11.000000\n",
              "0    Assoc-acdm      12.000000\n",
              "2     Bachelors      13.000000\n",
              "6       Masters      14.000000\n",
              "7   Prof-school      15.000000\n",
              "3     Doctorate      16.000000"
            ],
            "text/html": [
              "\n",
              "  <div id=\"df-cd93e5ae-3576-4ff7-b704-572b719e528d\">\n",
              "    <div class=\"colab-df-container\">\n",
              "      <div>\n",
              "<style scoped>\n",
              "    .dataframe tbody tr th:only-of-type {\n",
              "        vertical-align: middle;\n",
              "    }\n",
              "\n",
              "    .dataframe tbody tr th {\n",
              "        vertical-align: top;\n",
              "    }\n",
              "\n",
              "    .dataframe thead th {\n",
              "        text-align: right;\n",
              "    }\n",
              "</style>\n",
              "<table border=\"1\" class=\"dataframe\">\n",
              "  <thead>\n",
              "    <tr style=\"text-align: right;\">\n",
              "      <th></th>\n",
              "      <th>education</th>\n",
              "      <th>education-num</th>\n",
              "    </tr>\n",
              "  </thead>\n",
              "  <tbody>\n",
              "    <tr>\n",
              "      <th>4</th>\n",
              "      <td>HS</td>\n",
              "      <td>5.602398</td>\n",
              "    </tr>\n",
              "    <tr>\n",
              "      <th>5</th>\n",
              "      <td>HS-grad</td>\n",
              "      <td>9.000000</td>\n",
              "    </tr>\n",
              "    <tr>\n",
              "      <th>8</th>\n",
              "      <td>Some-college</td>\n",
              "      <td>10.000000</td>\n",
              "    </tr>\n",
              "    <tr>\n",
              "      <th>1</th>\n",
              "      <td>Assoc-voc</td>\n",
              "      <td>11.000000</td>\n",
              "    </tr>\n",
              "    <tr>\n",
              "      <th>0</th>\n",
              "      <td>Assoc-acdm</td>\n",
              "      <td>12.000000</td>\n",
              "    </tr>\n",
              "    <tr>\n",
              "      <th>2</th>\n",
              "      <td>Bachelors</td>\n",
              "      <td>13.000000</td>\n",
              "    </tr>\n",
              "    <tr>\n",
              "      <th>6</th>\n",
              "      <td>Masters</td>\n",
              "      <td>14.000000</td>\n",
              "    </tr>\n",
              "    <tr>\n",
              "      <th>7</th>\n",
              "      <td>Prof-school</td>\n",
              "      <td>15.000000</td>\n",
              "    </tr>\n",
              "    <tr>\n",
              "      <th>3</th>\n",
              "      <td>Doctorate</td>\n",
              "      <td>16.000000</td>\n",
              "    </tr>\n",
              "  </tbody>\n",
              "</table>\n",
              "</div>\n",
              "      <button class=\"colab-df-convert\" onclick=\"convertToInteractive('df-cd93e5ae-3576-4ff7-b704-572b719e528d')\"\n",
              "              title=\"Convert this dataframe to an interactive table.\"\n",
              "              style=\"display:none;\">\n",
              "        \n",
              "  <svg xmlns=\"http://www.w3.org/2000/svg\" height=\"24px\"viewBox=\"0 0 24 24\"\n",
              "       width=\"24px\">\n",
              "    <path d=\"M0 0h24v24H0V0z\" fill=\"none\"/>\n",
              "    <path d=\"M18.56 5.44l.94 2.06.94-2.06 2.06-.94-2.06-.94-.94-2.06-.94 2.06-2.06.94zm-11 1L8.5 8.5l.94-2.06 2.06-.94-2.06-.94L8.5 2.5l-.94 2.06-2.06.94zm10 10l.94 2.06.94-2.06 2.06-.94-2.06-.94-.94-2.06-.94 2.06-2.06.94z\"/><path d=\"M17.41 7.96l-1.37-1.37c-.4-.4-.92-.59-1.43-.59-.52 0-1.04.2-1.43.59L10.3 9.45l-7.72 7.72c-.78.78-.78 2.05 0 2.83L4 21.41c.39.39.9.59 1.41.59.51 0 1.02-.2 1.41-.59l7.78-7.78 2.81-2.81c.8-.78.8-2.07 0-2.86zM5.41 20L4 18.59l7.72-7.72 1.47 1.35L5.41 20z\"/>\n",
              "  </svg>\n",
              "      </button>\n",
              "      \n",
              "  <style>\n",
              "    .colab-df-container {\n",
              "      display:flex;\n",
              "      flex-wrap:wrap;\n",
              "      gap: 12px;\n",
              "    }\n",
              "\n",
              "    .colab-df-convert {\n",
              "      background-color: #E8F0FE;\n",
              "      border: none;\n",
              "      border-radius: 50%;\n",
              "      cursor: pointer;\n",
              "      display: none;\n",
              "      fill: #1967D2;\n",
              "      height: 32px;\n",
              "      padding: 0 0 0 0;\n",
              "      width: 32px;\n",
              "    }\n",
              "\n",
              "    .colab-df-convert:hover {\n",
              "      background-color: #E2EBFA;\n",
              "      box-shadow: 0px 1px 2px rgba(60, 64, 67, 0.3), 0px 1px 3px 1px rgba(60, 64, 67, 0.15);\n",
              "      fill: #174EA6;\n",
              "    }\n",
              "\n",
              "    [theme=dark] .colab-df-convert {\n",
              "      background-color: #3B4455;\n",
              "      fill: #D2E3FC;\n",
              "    }\n",
              "\n",
              "    [theme=dark] .colab-df-convert:hover {\n",
              "      background-color: #434B5C;\n",
              "      box-shadow: 0px 1px 3px 1px rgba(0, 0, 0, 0.15);\n",
              "      filter: drop-shadow(0px 1px 2px rgba(0, 0, 0, 0.3));\n",
              "      fill: #FFFFFF;\n",
              "    }\n",
              "  </style>\n",
              "\n",
              "      <script>\n",
              "        const buttonEl =\n",
              "          document.querySelector('#df-cd93e5ae-3576-4ff7-b704-572b719e528d button.colab-df-convert');\n",
              "        buttonEl.style.display =\n",
              "          google.colab.kernel.accessAllowed ? 'block' : 'none';\n",
              "\n",
              "        async function convertToInteractive(key) {\n",
              "          const element = document.querySelector('#df-cd93e5ae-3576-4ff7-b704-572b719e528d');\n",
              "          const dataTable =\n",
              "            await google.colab.kernel.invokeFunction('convertToInteractive',\n",
              "                                                     [key], {});\n",
              "          if (!dataTable) return;\n",
              "\n",
              "          const docLinkHtml = 'Like what you see? Visit the ' +\n",
              "            '<a target=\"_blank\" href=https://colab.research.google.com/notebooks/data_table.ipynb>data table notebook</a>'\n",
              "            + ' to learn more about interactive tables.';\n",
              "          element.innerHTML = '';\n",
              "          dataTable['output_type'] = 'display_data';\n",
              "          await google.colab.output.renderOutput(dataTable, element);\n",
              "          const docLink = document.createElement('div');\n",
              "          docLink.innerHTML = docLinkHtml;\n",
              "          element.appendChild(docLink);\n",
              "        }\n",
              "      </script>\n",
              "    </div>\n",
              "  </div>\n",
              "  "
            ]
          },
          "metadata": {},
          "execution_count": 1054
        }
      ],
      "source": [
        "census_df[['education', 'education-num']].groupby(['education'],as_index=False).mean().sort_values(by='education-num')"
      ]
    },
    {
      "cell_type": "code",
      "execution_count": 1055,
      "metadata": {
        "colab": {
          "base_uri": "https://localhost:8080/",
          "height": 367
        },
        "id": "Uga6XnoBbzlz",
        "outputId": "f62e1652-12cf-496b-a016-205434ed1af0"
      },
      "outputs": [
        {
          "output_type": "execute_result",
          "data": {
            "text/plain": [
              "<matplotlib.legend.Legend at 0x7f91ad1c4c70>"
            ]
          },
          "metadata": {},
          "execution_count": 1055
        },
        {
          "output_type": "display_data",
          "data": {
            "text/plain": [
              "<Figure size 1080x360 with 1 Axes>"
            ],
            "image/png": "[encoded data removed]"
          },
          "metadata": {}
        }
      ],
      "source": [
        "plt.figure(figsize=(15,5))\n",
        "sns.countplot(census_df['education'], hue = census_df['income'], palette='Pastel2')\n",
        "plt.title('Income As Per Different Education Levels', fontsize=12)\n",
        "plt.xticks(fontsize=12)\n",
        "plt.yticks(fontsize=12)\n",
        "plt.legend(fontsize=12)"
      ]
    },
    {
      "cell_type": "markdown",
      "source": [
        "There are more persons making more than $50,000 per year than those earning less than it in the area of education levels for those with a bachelor's, master's, doctorate, or professional degree."
      ],
      "metadata": {
        "id": "Nt9vQWAG-uk6"
      }
    },
    {
      "cell_type": "code",
      "execution_count": 1056,
      "metadata": {
        "id": "bi8K9zq7_c8s"
      },
      "outputs": [],
      "source": [
        "census_df['marital-status'].replace(['Married-AF-spouse'], 'Married',inplace=True)\n",
        "census_df['marital-status'].replace(['Married-civ-spouse'], 'Married',inplace=True)\n",
        "census_df['marital-status'].replace(['Married-spouse-absent'], 'Married',inplace=True)"
      ]
    },
    {
      "cell_type": "code",
      "execution_count": 1057,
      "metadata": {
        "colab": {
          "base_uri": "https://localhost:8080/",
          "height": 373
        },
        "id": "WKKoCgGg_lj8",
        "outputId": "a444cf8b-8458-4161-9cb3-f2271853525f"
      },
      "outputs": [
        {
          "output_type": "execute_result",
          "data": {
            "text/plain": [
              "<matplotlib.legend.Legend at 0x7f91abd950d0>"
            ]
          },
          "metadata": {},
          "execution_count": 1057
        },
        {
          "output_type": "display_data",
          "data": {
            "text/plain": [
              "<Figure size 720x360 with 1 Axes>"
            ],
            "image/png": "[encoded data removed]"
          },
          "metadata": {}
        }
      ],
      "source": [
        "plt.figure(figsize=(10,5))\n",
        "plt.style.use('seaborn-ticks')\n",
        "sns.countplot(y='marital-status', hue = 'income', data = census_df)\n",
        "plt.title('Income As Per Different Marital Status', fontsize=12)\n",
        "plt.xticks(fontsize=12)\n",
        "plt.yticks(fontsize=12)\n",
        "plt.legend(fontsize=12)"
      ]
    },
    {
      "cell_type": "code",
      "execution_count": 1058,
      "metadata": {
        "colab": {
          "base_uri": "https://localhost:8080/",
          "height": 459
        },
        "id": "5Q6qnCd-qO3H",
        "outputId": "c1680689-a2dd-4b6b-ab57-58c33ec40527"
      },
      "outputs": [
        {
          "output_type": "execute_result",
          "data": {
            "text/plain": [
              "<matplotlib.legend.Legend at 0x7f91abd90ac0>"
            ]
          },
          "metadata": {},
          "execution_count": 1058
        },
        {
          "output_type": "display_data",
          "data": {
            "text/plain": [
              "<Figure size 720x360 with 1 Axes>"
            ],
            "image/png": "[encoded data removed]"
          },
          "metadata": {}
        }
      ],
      "source": [
        "plt.figure(figsize=(10,5))\n",
        "sns.countplot(census_df['occupation'], hue = census_df['income'], palette='Blues_r')\n",
        "plt.title('Income As Per Different Occupations', fontsize=12)\n",
        "plt.xticks(fontsize=12,rotation = 90)\n",
        "plt.yticks(fontsize=12)\n",
        "plt.legend(fontsize=10)\n"
      ]
    },
    {
      "cell_type": "markdown",
      "source": [
        "People in executive management positions are equally likely to make more than $50,000 annually.\n",
        "\n",
        "An adult in a prof-specialty has a about 33% chance of making more over $50,000 each year."
      ],
      "metadata": {
        "id": "A_49tH4Z_Qn2"
      }
    },
    {
      "cell_type": "code",
      "execution_count": 1059,
      "metadata": {
        "colab": {
          "base_uri": "https://localhost:8080/",
          "height": 373
        },
        "id": "Nwi6O5S3qu3k",
        "outputId": "1fc9d04b-07bc-4eb4-fb9f-f09b9c8f6961"
      },
      "outputs": [
        {
          "output_type": "execute_result",
          "data": {
            "text/plain": [
              "<matplotlib.legend.Legend at 0x7f91ac931670>"
            ]
          },
          "metadata": {},
          "execution_count": 1059
        },
        {
          "output_type": "display_data",
          "data": {
            "text/plain": [
              "<Figure size 720x360 with 1 Axes>"
            ],
            "image/png": "[encoded data removed]"
          },
          "metadata": {}
        }
      ],
      "source": [
        "plt.figure(figsize=(10,5))\n",
        "sns.countplot(census_df['relationship'], hue = census_df['income'], palette='Reds_r')\n",
        "plt.title('Income As Per Different Relationships', fontsize=12)\n",
        "plt.xticks(fontsize=12)\n",
        "plt.yticks(fontsize=12)\n",
        "plt.legend(fontsize=10)"
      ]
    },
    {
      "cell_type": "code",
      "execution_count": 1060,
      "metadata": {
        "colab": {
          "base_uri": "https://localhost:8080/",
          "height": 470
        },
        "id": "6Dj6pvaiqvd9",
        "outputId": "453fb589-96fa-4586-faa7-99eb2fd19a93"
      },
      "outputs": [
        {
          "output_type": "execute_result",
          "data": {
            "text/plain": [
              "<matplotlib.legend.Legend at 0x7f91ad083970>"
            ]
          },
          "metadata": {},
          "execution_count": 1060
        },
        {
          "output_type": "display_data",
          "data": {
            "text/plain": [
              "<Figure size 720x360 with 1 Axes>"
            ],
            "image/png": "[encoded data removed]"
          },
          "metadata": {}
        }
      ],
      "source": [
        "plt.figure(figsize=(10,5))\n",
        "sns.countplot(census_df['race'], hue = census_df['income'], palette='Greens_r')\n",
        "plt.title('Income As Per Different Race', fontsize=12)  #except Whites there are very few people of different races\n",
        "plt.xticks(fontsize=12,rotation = 90)\n",
        "plt.yticks(fontsize=12)\n",
        "plt.legend(fontsize=10)"
      ]
    },
    {
      "cell_type": "code",
      "execution_count": 1061,
      "metadata": {
        "colab": {
          "base_uri": "https://localhost:8080/",
          "height": 373
        },
        "id": "tVt7K1MsqwMi",
        "outputId": "bad436cb-f40e-4730-9fbc-829476d0d999"
      },
      "outputs": [
        {
          "output_type": "execute_result",
          "data": {
            "text/plain": [
              "<matplotlib.legend.Legend at 0x7f91ad031850>"
            ]
          },
          "metadata": {},
          "execution_count": 1061
        },
        {
          "output_type": "display_data",
          "data": {
            "text/plain": [
              "<Figure size 576x360 with 1 Axes>"
            ],
            "image/png": "[encoded data removed]"
          },
          "metadata": {}
        }
      ],
      "source": [
        "plt.figure(figsize=(8,5))\n",
        "sns.countplot(census_df['sex'], hue = census_df['income'], palette='Wistia')\n",
        "plt.title('Income As Per Different Genders', fontsize=12)\n",
        "plt.xticks(fontsize=12)\n",
        "plt.yticks(fontsize=12)\n",
        "plt.legend(fontsize=10)"
      ]
    },
    {
      "cell_type": "markdown",
      "source": [
        "Among people who are female, less than 10% make more than $50,000 a year."
      ],
      "metadata": {
        "id": "YcZA4GRl_mxz"
      }
    },
    {
      "cell_type": "code",
      "execution_count": 1062,
      "metadata": {
        "id": "WmOyXi5RrzDz"
      },
      "outputs": [],
      "source": [
        "census_df['hours-per-week_bin'] = pd.cut(census_df['hours-per-week'], 10)\n",
        "census_df['hours-per-week'] = census_df['hours-per-week']"
      ]
    },
    {
      "cell_type": "code",
      "execution_count": 1063,
      "metadata": {
        "colab": {
          "base_uri": "https://localhost:8080/",
          "height": 350
        },
        "id": "EAXGHuzss0bc",
        "outputId": "f1caad21-0a55-4ed7-8f37-791369aa9ce3"
      },
      "outputs": [
        {
          "output_type": "execute_result",
          "data": {
            "text/plain": [
              "<matplotlib.legend.Legend at 0x7f91ace5e310>"
            ]
          },
          "metadata": {},
          "execution_count": 1063
        },
        {
          "output_type": "display_data",
          "data": {
            "text/plain": [
              "<Figure size 720x360 with 2 Axes>"
            ],
            "image/png": "[encoded data removed]"
          },
          "metadata": {}
        }
      ],
      "source": [
        "plt.style.use('seaborn-whitegrid')\n",
        "fig = plt.figure(figsize=(10,5)) \n",
        "plt.subplot(1, 2, 1)\n",
        "sns.countplot(y=\"hours-per-week_bin\", data=census_df);\n",
        "plt.subplot(1, 2, 2)\n",
        "sns.distplot(census_df['hours-per-week']);\n",
        "sns.distplot(census_df[census_df['income'] == '>50K']['hours-per-week'], kde_kws={\"label\": \">$50K\"})\n",
        "sns.distplot(census_df[census_df['income'] == '<=50K']['hours-per-week'], kde_kws={\"label\": \"<$50K\"})\n",
        "plt.ylim(0, None)\n",
        "plt.xlim(20, 80)\n",
        "plt.legend(loc='upper right', labels=['<=50K', '>50K'])"
      ]
    },
    {
      "cell_type": "code",
      "execution_count": 1064,
      "metadata": {
        "id": "Sgl0s1Vr4emg"
      },
      "outputs": [],
      "source": [
        "census_df['age-hours'] = census_df['age']*census_df['hours-per-week']\n",
        "census_df['age-hours_bin'] = pd.cut(census_df['age-hours'], 10)"
      ]
    },
    {
      "cell_type": "code",
      "execution_count": 1065,
      "metadata": {
        "colab": {
          "base_uri": "https://localhost:8080/",
          "height": 350
        },
        "id": "5RE4O3Dk5wGt",
        "outputId": "708eaf23-441b-4e2d-b282-387a989183c7"
      },
      "outputs": [
        {
          "output_type": "execute_result",
          "data": {
            "text/plain": [
              "<matplotlib.legend.Legend at 0x7f91ad00e9d0>"
            ]
          },
          "metadata": {},
          "execution_count": 1065
        },
        {
          "output_type": "display_data",
          "data": {
            "text/plain": [
              "<Figure size 1440x360 with 2 Axes>"
            ],
            "image/png": "[encoded data removed]"
          },
          "metadata": {}
        }
      ],
      "source": [
        "plt.style.use('seaborn-whitegrid')\n",
        "plt.figure(figsize=(20,5)) \n",
        "plt.subplot(1, 2, 1)\n",
        "sns.countplot(y=\"age-hours_bin\", data=census_df)\n",
        "plt.subplot(1, 2, 2)\n",
        "sns.distplot(census_df[census_df['income'] == '>50K']['age-hours'], kde_kws={\"label\": \">$50K\"})\n",
        "sns.distplot(census_df[census_df['income'] == '<=50K']['age-hours'], kde_kws={\"label\": \"<$50K\"})\n",
        "plt.ylim(0, None)\n",
        "plt.xlim(10, 6000)\n",
        "plt.legend(loc='upper right', labels=['<=50K', '>50K'])"
      ]
    },
    {
      "cell_type": "code",
      "execution_count": 1066,
      "metadata": {
        "colab": {
          "base_uri": "https://localhost:8080/",
          "height": 332
        },
        "id": "NIFcMbzZxMGr",
        "outputId": "2247416a-cae6-4dc6-caf1-d44e1c75a35e"
      },
      "outputs": [
        {
          "output_type": "display_data",
          "data": {
            "text/plain": [
              "<Figure size 1440x360 with 1 Axes>"
            ],
            "image/png": "[encoded data removed]"
          },
          "metadata": {}
        }
      ],
      "source": [
        "plt.figure(figsize=(20, 5))\n",
        "vp = sns.violinplot(x=\"occupation\", y=\"age\", hue=\"income\",\n",
        "                    data=census_df, gridsize=100, palette=\"Purples_r\", split=True, saturation=0.75)"
      ]
    },
    {
      "cell_type": "code",
      "execution_count": 1067,
      "metadata": {
        "colab": {
          "base_uri": "https://localhost:8080/",
          "height": 332
        },
        "id": "v4Zp2pJHzIem",
        "outputId": "e578c8b6-acb2-4fe9-8970-164e55bc6d60"
      },
      "outputs": [
        {
          "output_type": "display_data",
          "data": {
            "text/plain": [
              "<Figure size 864x360 with 1 Axes>"
            ],
            "image/png": "[encoded data removed]"
          },
          "metadata": {}
        }
      ],
      "source": [
        "plt.figure(figsize=(12, 5))\n",
        "vp = sns.violinplot(x=\"race\", y=\"age\", hue=\"income\",\n",
        "                    data=census_df, gridsize=50, palette=\"gist_rainbow\", split=True)"
      ]
    },
    {
      "cell_type": "code",
      "execution_count": 1068,
      "metadata": {
        "id": "5uwNIyNEgKea"
      },
      "outputs": [],
      "source": [
        "census_df['income']=census_df['income'].map({'<=50K': 0, '>50K': 1})\n"
      ]
    },
    {
      "cell_type": "code",
      "execution_count": 1069,
      "metadata": {
        "colab": {
          "base_uri": "https://localhost:8080/",
          "height": 732
        },
        "id": "SeKUdxHB3QQb",
        "outputId": "e231dae8-d060-416d-9595-ff5b673902a4"
      },
      "outputs": [
        {
          "output_type": "stream",
          "name": "stderr",
          "text": [
            "WARNING:matplotlib.legend:No artists with labels found to put in legend.  Note that artists whose label start with an underscore are ignored when legend() is called with no argument.\n"
          ]
        },
        {
          "output_type": "execute_result",
          "data": {
            "text/plain": [
              "<matplotlib.legend.Legend at 0x7f91ad799ee0>"
            ]
          },
          "metadata": {},
          "execution_count": 1069
        },
        {
          "output_type": "display_data",
          "data": {
            "text/plain": [
              "<Figure size 720x720 with 2 Axes>"
            ],
            "image/png": "[encoded data removed]"
          },
          "metadata": {}
        }
      ],
      "source": [
        "plt.figure(figsize = (10,10))\n",
        "plt.title(\"Correlation b/w features of the dataset\", fontsize = 12)\n",
        "sns.heatmap(census_df.corr(), cmap = 'Greys', annot = True)\n",
        "plt.xticks(fontsize=12, rotation = 90)\n",
        "plt.yticks(fontsize=12, rotation = 90)\n",
        "plt.legend(fontsize=12)"
      ]
    },
    {
      "cell_type": "markdown",
      "source": [
        "The majority of the attributes have a positive correlation with the Income variable."
      ],
      "metadata": {
        "id": "S6qK4XwtAVzY"
      }
    },
    {
      "cell_type": "code",
      "execution_count": 1070,
      "metadata": {
        "id": "aEKPbOKp9BT9"
      },
      "outputs": [],
      "source": [
        "census_df.drop(['education-num'], axis = 1, inplace = True)\n",
        "#census_df.drop(['fnlwgt'], axis = 1, inplace = True)\n",
        "census_df['race'].replace(['Black', 'Asian-Pac-Islander', 'Amer-Indian-Eskimo', 'Other'],' Other', inplace = True)"
      ]
    },
    {
      "cell_type": "code",
      "execution_count": 1071,
      "metadata": {
        "id": "sVczN6Hf90i-"
      },
      "outputs": [],
      "source": [
        "census_df.drop('AgeGroup', inplace = True, axis = 1)\n",
        "census_df.drop('hours-per-week_bin', inplace = True, axis = 1)\n",
        "census_df.drop('age-hours', inplace = True, axis = 1)\n",
        "census_df.drop('age-hours_bin', inplace = True, axis = 1)"
      ]
    },
    {
      "cell_type": "code",
      "execution_count": 1072,
      "metadata": {
        "colab": {
          "base_uri": "https://localhost:8080/"
        },
        "id": "Sc6qM2BM-GtB",
        "outputId": "1409e298-1698-431e-8069-bb66437a3f1a"
      },
      "outputs": [
        {
          "output_type": "stream",
          "name": "stdout",
          "text": [
            "<class 'pandas.core.frame.DataFrame'>\n",
            "RangeIndex: 32561 entries, 0 to 32560\n",
            "Data columns (total 14 columns):\n",
            " #   Column          Non-Null Count  Dtype \n",
            "---  ------          --------------  ----- \n",
            " 0   age             32561 non-null  int64 \n",
            " 1   workclass       32561 non-null  object\n",
            " 2   fnlwgt          32561 non-null  int64 \n",
            " 3   education       32561 non-null  object\n",
            " 4   marital-status  32561 non-null  object\n",
            " 5   occupation      32561 non-null  object\n",
            " 6   relationship    32561 non-null  object\n",
            " 7   race            32561 non-null  object\n",
            " 8   sex             32561 non-null  object\n",
            " 9   capital-gain    32561 non-null  int64 \n",
            " 10  capital-loss    32561 non-null  int64 \n",
            " 11  hours-per-week  32561 non-null  int64 \n",
            " 12  native-country  32561 non-null  object\n",
            " 13  income          32561 non-null  int64 \n",
            "dtypes: int64(6), object(8)\n",
            "memory usage: 3.5+ MB\n"
          ]
        }
      ],
      "source": [
        "census_df.info()"
      ]
    },
    {
      "cell_type": "code",
      "execution_count": 1073,
      "metadata": {
        "id": "FPoTBMlc95KE"
      },
      "outputs": [],
      "source": [
        "from sklearn.preprocessing import LabelEncoder\n",
        "from sklearn.preprocessing import StandardScaler\n",
        "\n",
        "categorical_values = ['workclass','education', 'marital-status', 'occupation', 'relationship',\n",
        "               'race', 'sex','native-country']\n",
        "label_encoder = LabelEncoder()\n",
        "for column in categorical_values:\n",
        "    label_encoder.fit(census_df[column])\n",
        "    census_df[column] = label_encoder.transform(census_df[column])\n",
        "    \n",
        "from sklearn.model_selection import train_test_split\n",
        "x = census_df[['workclass','education', 'marital-status', 'occupation', 'relationship',\n",
        "               'race', 'sex','native-country', 'age', 'fnlwgt', 'capital-gain', 'capital-loss', 'hours-per-week']]\n",
        "y = census_df['income']\n",
        "    \n",
        "x_train, x_test, y_train, y_test = train_test_split(x, y, test_size = 0.3, random_state = 0)"
      ]
    },
    {
      "cell_type": "code",
      "execution_count": 1074,
      "metadata": {
        "id": "WDYgYB_7C5YI"
      },
      "outputs": [],
      "source": [
        "scaler = StandardScaler()\n",
        "\n",
        "x_train = pd.DataFrame(scaler.fit_transform(x_train), columns = x.columns)\n",
        "x_test = pd.DataFrame(scaler.transform(x_test), columns = x.columns)"
      ]
    },
    {
      "cell_type": "markdown",
      "source": [
        "# KNN (K-Nearest Neighbors Algorithm) From Scratch"
      ],
      "metadata": {
        "id": "gntrY6IX7KTd"
      }
    },
    {
      "cell_type": "code",
      "source": [
        "from tqdm import tqdm\n",
        "\n",
        "class KNN_Classifier:\n",
        "    def __init__(self, x_train, y_train, x_test, y_test) -> None:\n",
        "      self.x_train = np.array(x_train)\n",
        "      self.y_train = np.array(y_train)\n",
        "      self.x_test = np.array(x_test)\n",
        "      self.y_test = np.array(y_test)\n",
        "\n",
        "    def KNNClassifier(self, k):\n",
        "        train_data = self.x_train    \n",
        "        self.y_pred = []\n",
        "        append_y = self.y_pred.append\n",
        "        bin_count = np.bincount\n",
        "    \n",
        "        for testData in tqdm(self.x_test):\n",
        "            diff = train_data - testData #this method computes the distance between the test data point and all training data points using the Euclidean distance\n",
        "            diff **= 2\n",
        "            dist_array = diff.sum(axis = 1)\n",
        "            top_index = dist_array.argpartition(k)[:k]\n",
        "            max_label = bin_count(self.y_train[top_index]).argmax() #to determine the most common label among the k nearest neighbors\n",
        "            append_y(max_label)\n",
        "\n",
        "    def score(self):\n",
        "      self.accuracy = (np.array(self.y_pred) == np.array(self.y_test)).sum() / len(self.y_pred)\n",
        "      self.precision = (np.array(self.y_pred) & np.array(self.y_test)).sum() / sum(self.y_pred)\n",
        "      self.recall = (np.array(self.y_pred) & np.array(self.y_test)).sum() / sum(self.y_test)\n",
        "      self.F1_score = 2*self.precision*self.recall / (self.precision + self.recall)\n",
        "\n",
        "      print('Accuracy = {}.'.format(self.accuracy))\n",
        "      print('Precision = {}.'.format(self.precision))\n",
        "      print('Recall = {}.'.format(self.recall))\n",
        "      print('F1 Score = {}'.format(self.F1_score))\n",
        "\n",
        "  "
      ],
      "metadata": {
        "id": "7iGv8wbCylh9"
      },
      "execution_count": 1075,
      "outputs": []
    },
    {
      "cell_type": "code",
      "source": [
        "knn = KNN_Classifier(x_train, y_train, x_test, y_test)\n"
      ],
      "metadata": {
        "id": "NWgcuxeDylmG"
      },
      "execution_count": 1076,
      "outputs": []
    },
    {
      "cell_type": "code",
      "source": [
        "knn.KNNClassifier(5) #k=5\n"
      ],
      "metadata": {
        "colab": {
          "base_uri": "https://localhost:8080/"
        },
        "id": "ojjkWJFWylqp",
        "outputId": "ab8b847c-b04f-4263-b65a-4cbaf720444a"
      },
      "execution_count": 1077,
      "outputs": [
        {
          "output_type": "stream",
          "name": "stderr",
          "text": [
            "100%|██████████| 9769/9769 [00:08<00:00, 1166.05it/s]\n"
          ]
        }
      ]
    },
    {
      "cell_type": "code",
      "source": [
        "knn.score()\n",
        "print('')"
      ],
      "metadata": {
        "colab": {
          "base_uri": "https://localhost:8080/"
        },
        "id": "z-k6nT28ylwU",
        "outputId": "37e01b32-7d0f-42a0-d6dc-270736d61815"
      },
      "execution_count": 1078,
      "outputs": [
        {
          "output_type": "stream",
          "name": "stdout",
          "text": [
            "Accuracy = 0.8158460436073293.\n",
            "Precision = 0.6383292383292384.\n",
            "Recall = 0.5499576629974597.\n",
            "F1 Score = 0.5908574027746191\n",
            "\n"
          ]
        }
      ]
    },
    {
      "cell_type": "markdown",
      "source": [
        "# Logistic Regression From Scratch"
      ],
      "metadata": {
        "id": "GfHnIFz37FEh"
      }
    },
    {
      "cell_type": "code",
      "execution_count": 1079,
      "metadata": {
        "id": "YpF4NGI0fCUy"
      },
      "outputs": [],
      "source": [
        "def sigmoid(x, weight):\n",
        "    z = np.dot(x, weight)\n",
        "    return 1 / (1 + np.exp(-z)) #to convert the output of the model to a probability value between 0 and 1"
      ]
    },
    {
      "cell_type": "code",
      "execution_count": 1080,
      "metadata": {
        "id": "qUjHE7wcfG90"
      },
      "outputs": [],
      "source": [
        "def loss_func(h, y):\n",
        "    return (-y * np.log(h) - (1 - y) * np.log(1 - h)).mean()"
      ]
    },
    {
      "cell_type": "code",
      "execution_count": 1081,
      "metadata": {
        "id": "B09wOE78fK8c"
      },
      "outputs": [],
      "source": [
        "def gradient_descent(x, h, y):\n",
        "    return np.dot(x.T, (h - y)) / y.shape[0]\n",
        "def update_weight_loss(weight, learning_rate, gradient):\n",
        "    return weight - learning_rate * gradient"
      ]
    },
    {
      "cell_type": "code",
      "execution_count": 1082,
      "metadata": {
        "id": "rmi81tMbfNd1"
      },
      "outputs": [],
      "source": [
        "def LogLikelihood(x, y, weights):   #MLE (Maximum Likelihood Estimation) is a method for estimating parameters\n",
        "    z = np.dot(x, weights)\n",
        "    ll = np.sum( y*z - np.log(1 + np.exp(z)) )\n",
        "    return ll"
      ]
    },
    {
      "cell_type": "code",
      "execution_count": 1083,
      "metadata": {
        "id": "286e2lA3fNib"
      },
      "outputs": [],
      "source": [
        "def gradient_ascent(x, h, y):\n",
        "    return np.dot(x.T, y - h)\n",
        "def update_weight_mle(weight, learning_rate, gradient):\n",
        "    return weight + learning_rate * gradient"
      ]
    },
    {
      "cell_type": "code",
      "execution_count": 1084,
      "metadata": {
        "colab": {
          "base_uri": "https://localhost:8080/"
        },
        "id": "owvJofn0fNne",
        "outputId": "cd142db8-20ea-4029-c1f0-635d3147e2d1"
      },
      "outputs": [
        {
          "output_type": "stream",
          "name": "stdout",
          "text": [
            "Logistic Regression using Gradient descent\n",
            "Learning rate: 0.1\n",
            "Number of Iterations: 100000\n"
          ]
        }
      ],
      "source": [
        "num_iter = 100000\n",
        "\n",
        "intercept = np.ones((x.shape[0], 1)) \n",
        "x = np.concatenate((intercept, x), axis=1)\n",
        "theta = np.zeros(x.shape[1])\n",
        "\n",
        "for i in range(num_iter):\n",
        "    h = sigmoid(x, theta)\n",
        "    gradient = gradient_descent(x, h, y)\n",
        "    theta = update_weight_loss(theta, 0.1, gradient)\n",
        "    \n",
        "print(\"Logistic Regression using Gradient descent\")\n",
        "print(\"Learning rate: {}\\nNumber of Iterations: {}\".format(0.1, num_iter))"
      ]
    },
    {
      "cell_type": "code",
      "execution_count": 1085,
      "metadata": {
        "id": "uRRHVjGIfNsC"
      },
      "outputs": [],
      "source": [
        "result = sigmoid(x, theta)"
      ]
    },
    {
      "cell_type": "code",
      "execution_count": 1086,
      "metadata": {
        "colab": {
          "base_uri": "https://localhost:8080/"
        },
        "id": "I6OQX4QDfNwR",
        "outputId": "32eaac35-21b8-4d2a-a2ab-ca869250f28b"
      },
      "outputs": [
        {
          "output_type": "stream",
          "name": "stdout",
          "text": [
            "Accuracy for Loss minimization:\n"
          ]
        },
        {
          "output_type": "execute_result",
          "data": {
            "text/plain": [
              "24.080955744602438"
            ]
          },
          "metadata": {},
          "execution_count": 1086
        }
      ],
      "source": [
        "f = pd.DataFrame(np.around(result, decimals=6)).join(y)\n",
        "f['pred'] = f[0].apply(lambda x : 0 if x < 0.5 else 1)\n",
        "print(\"Accuracy for Loss minimization:\")\n",
        "f.loc[f['pred']==f['income']].shape[0] / f.shape[0] * 100"
      ]
    },
    {
      "cell_type": "code",
      "execution_count": 1087,
      "metadata": {
        "colab": {
          "base_uri": "https://localhost:8080/"
        },
        "id": "UvlcwBiafNzN",
        "outputId": "89715f2a-013d-480c-95ee-01dfc88ebb33"
      },
      "outputs": [
        {
          "output_type": "stream",
          "name": "stdout",
          "text": [
            "Logistic Regression using MLE\n",
            "Learning rate: 0.1\n",
            "Number of Iterations: 100000\n"
          ]
        }
      ],
      "source": [
        "num_iter = 100000\n",
        "x2 = census_df[['workclass','education', 'marital-status', 'occupation', 'relationship',\n",
        "               'race', 'sex','native-country', 'age', 'fnlwgt', 'capital-gain', 'capital-loss', 'hours-per-week']]\n",
        "\n",
        "intercept2 = np.ones((x2.shape[0], 1))\n",
        "\n",
        "x2 = np.concatenate((intercept2, x2), axis=1)\n",
        "theta2 = np.zeros(x2.shape[1])\n",
        "\n",
        "for i in range(num_iter):\n",
        "    h2 = sigmoid(x2, theta2)\n",
        "    gradient2 = gradient_ascent(x2, h2, y) #np.dot(X.T, (h - y)) / y.size\n",
        "    theta2 = update_weight_mle(theta2, 0.1, gradient2)\n",
        "    \n",
        "print(\"Logistic Regression using MLE\")\n",
        "print(\"Learning rate: {}\\nNumber of Iterations: {}\".format(0.1, num_iter))"
      ]
    },
    {
      "cell_type": "code",
      "execution_count": null,
      "metadata": {
        "id": "W-nnKn26falZ"
      },
      "outputs": [],
      "source": [
        "result2 = sigmoid(x2, theta2)\n",
        "print(\"Accuracy for Maximum Likelihood Estimation:\")\n",
        "f2 = pd.DataFrame(result2).join(y)\n",
        "f2.loc[f2[0]==f2['income']].shape[0] / f2.shape[0] * 100"
      ]
    },
    {
      "cell_type": "markdown",
      "source": [
        "On implementing Logistic Regression from Scratch using MLE, accuracy is around 78.9 %"
      ],
      "metadata": {
        "id": "Ua9xk99EBk1B"
      }
    },
    {
      "cell_type": "code",
      "execution_count": null,
      "metadata": {
        "id": "PGVzGDAtsfKb"
      },
      "outputs": [],
      "source": [
        "np.save('theta.npy', theta2) ## learned theta parameters"
      ]
    },
    {
      "cell_type": "markdown",
      "source": [
        "# KNN Using Scikit Learn"
      ],
      "metadata": {
        "id": "We209YDEStfG"
      }
    },
    {
      "cell_type": "code",
      "source": [
        "from sklearn.neighbors import KNeighborsClassifier #KNN\n",
        "# K-Nearest Neighbors\n",
        "knn = KNeighborsClassifier()\n",
        "knn.fit(x_train, y_train)\n",
        "score_knn = knn.score(x_test,y_test)\n",
        "print('The accuracy of the KNN Model is',score_knn) #the accuracy is quite similar to what we got while applying the model from scratch"
      ],
      "metadata": {
        "id": "mshJeCReSrT9"
      },
      "execution_count": null,
      "outputs": []
    },
    {
      "cell_type": "markdown",
      "source": [
        "# Logistic Regression Using Scikit Learn"
      ],
      "metadata": {
        "id": "jm_uPus96QEV"
      }
    },
    {
      "cell_type": "code",
      "execution_count": 1091,
      "metadata": {
        "id": "XFHU6isxfann"
      },
      "outputs": [],
      "source": [
        "from sklearn.linear_model import LogisticRegression\n",
        "\n",
        "from sklearn.model_selection import train_test_split\n",
        "x = census_df[['workclass','education', 'marital-status', 'occupation', 'relationship',\n",
        "               'race', 'sex','native-country', 'age', 'fnlwgt', 'capital-gain', 'capital-loss', 'hours-per-week']]\n",
        "y = census_df['income']\n",
        "\n",
        "x_train, x_test, y_train, y_test = train_test_split(x, y, test_size = 0.3, random_state = 0)\n",
        "    \n",
        "from sklearn.preprocessing import StandardScaler\n",
        "\n",
        "scaler = StandardScaler()\n",
        "\n",
        "x_train = pd.DataFrame(scaler.fit_transform(x_train), columns = x.columns)\n",
        "x_test = pd.DataFrame(scaler.transform(x_test), columns = x.columns)"
      ]
    },
    {
      "cell_type": "code",
      "execution_count": 1092,
      "metadata": {
        "id": "ok5MFZLIn00V",
        "colab": {
          "base_uri": "https://localhost:8080/"
        },
        "outputId": "7d9bfb68-0eae-4026-c5cf-410eb42b632f"
      },
      "outputs": [
        {
          "output_type": "stream",
          "name": "stdout",
          "text": [
            "Logistic Regression 0.8048930289691882\n"
          ]
        }
      ],
      "source": [
        "from sklearn.metrics import accuracy_score\n",
        "from sklearn.linear_model import LogisticRegression\n",
        "logreg = LogisticRegression()\n",
        "logreg.fit(x_train, y_train)\n",
        "\n",
        "Y_pred = logreg.predict(x_test)\n",
        "\n",
        "acc = accuracy_score(y_test, Y_pred)\n",
        "print(\"Logistic Regression\",acc)"
      ]
    },
    {
      "cell_type": "code",
      "execution_count": 1093,
      "metadata": {
        "id": "1ADIRKQafasK"
      },
      "outputs": [],
      "source": [
        "X = census_df[['workclass','education', 'marital-status', 'occupation', 'relationship',\n",
        "               'race', 'sex','native-country', 'age', 'fnlwgt', 'capital-gain', 'capital-loss', 'hours-per-week']]\n",
        "Y = census_df['income']\n",
        "\n",
        " \n",
        "from sklearn.preprocessing import StandardScaler\n",
        "\n",
        "scaler = StandardScaler()\n",
        "\n",
        "lr = LogisticRegression(solver='lbfgs', max_iter=10000)\n",
        "rs = []\n",
        "acc = []\n",
        "for i in range(1,25,1):\n",
        "    X_train,X_test,y_train,y_test = train_test_split(X, y, test_size = 0.2, random_state = i)\n",
        "    X_train = pd.DataFrame(scaler.fit_transform(X_train), columns = X.columns)\n",
        "    X_test = pd.DataFrame(scaler.transform(X_test), columns = X.columns)\n",
        "    model_lr_rs = lr.fit(X_train, y_train)\n",
        "    predict_values_lr_rs = model_lr_rs.predict(X_test)\n",
        "    acc.append(accuracy_score(y_test, predict_values_lr_rs))\n",
        "    rs.append(i)"
      ]
    },
    {
      "cell_type": "code",
      "execution_count": 1094,
      "metadata": {
        "id": "r5vyNe0Gm242",
        "colab": {
          "base_uri": "https://localhost:8080/",
          "height": 908
        },
        "outputId": "43c1308d-907c-480d-d408-e223368378f1"
      },
      "outputs": [
        {
          "output_type": "stream",
          "name": "stdout",
          "text": [
            "1 0.8088438507600184\n",
            "2 0.8010133578995855\n",
            "3 0.7999385843697221\n",
            "4 0.8060801473975127\n",
            "5 0.8019345923537541\n",
            "6 0.8079226163058498\n",
            "7 0.8025487486565331\n",
            "8 0.8050053738676494\n",
            "9 0.8099186242898818\n",
            "10 0.7971748810072163\n",
            "11 0.8076155381544603\n",
            "12 0.8016275142023646\n",
            "13 0.8048518347919545\n",
            "14 0.8096115461384923\n",
            "15 0.8046982957162598\n",
            "16 0.8070013818516812\n",
            "17 0.8008598188238907\n",
            "18 0.8068478427759865\n",
            "19 0.805926608321818\n",
            "20 0.8014739751266697\n",
            "21 0.8014739751266697\n",
            "22 0.7996315062183326\n",
            "23 0.7985567326884692\n",
            "24 0.798710271764164\n"
          ]
        },
        {
          "output_type": "display_data",
          "data": {
            "text/plain": [
              "<Figure size 576x576 with 1 Axes>"
            ],
            "image/png": "[encoded data removed]"
          },
          "metadata": {}
        }
      ],
      "source": [
        "plt.figure(figsize=(8,8))\n",
        "plt.plot(rs, acc, color ='green')\n",
        "\n",
        "for i in range(len(rs)):\n",
        "    print(rs[i],acc[i]) #the maximum accuracy is around 80.9%, while the 'from scratch' model gave almost 79%"
      ]
    },
    {
      "cell_type": "code",
      "execution_count": 1095,
      "metadata": {
        "id": "cRd6ei7iwa2X",
        "colab": {
          "base_uri": "https://localhost:8080/"
        },
        "outputId": "ce358df2-8d55-4216-9d2b-bd85b44578c2"
      },
      "outputs": [
        {
          "output_type": "stream",
          "name": "stdout",
          "text": [
            "<class 'pandas.core.frame.DataFrame'>\n",
            "RangeIndex: 32561 entries, 0 to 32560\n",
            "Data columns (total 14 columns):\n",
            " #   Column          Non-Null Count  Dtype\n",
            "---  ------          --------------  -----\n",
            " 0   age             32561 non-null  int64\n",
            " 1   workclass       32561 non-null  int64\n",
            " 2   fnlwgt          32561 non-null  int64\n",
            " 3   education       32561 non-null  int64\n",
            " 4   marital-status  32561 non-null  int64\n",
            " 5   occupation      32561 non-null  int64\n",
            " 6   relationship    32561 non-null  int64\n",
            " 7   race            32561 non-null  int64\n",
            " 8   sex             32561 non-null  int64\n",
            " 9   capital-gain    32561 non-null  int64\n",
            " 10  capital-loss    32561 non-null  int64\n",
            " 11  hours-per-week  32561 non-null  int64\n",
            " 12  native-country  32561 non-null  int64\n",
            " 13  income          32561 non-null  int64\n",
            "dtypes: int64(14)\n",
            "memory usage: 3.5 MB\n"
          ]
        }
      ],
      "source": [
        "census_df.info()"
      ]
    },
    {
      "cell_type": "markdown",
      "source": [
        "# Applying the Logistic Regression model on Test Data (adult.test)"
      ],
      "metadata": {
        "id": "eeomRoxr6eem"
      }
    },
    {
      "cell_type": "code",
      "execution_count": 1097,
      "metadata": {
        "id": "I0_Sm6BzylRC",
        "colab": {
          "base_uri": "https://localhost:8080/"
        },
        "outputId": "ac6ea4fe-337f-4c4a-8826-bba6d8b67cdf"
      },
      "outputs": [
        {
          "output_type": "stream",
          "name": "stdout",
          "text": [
            "Accuracy (Maximum Likelihood Estimation):\n"
          ]
        },
        {
          "output_type": "execute_result",
          "data": {
            "text/plain": [
              "74.94625637245869"
            ]
          },
          "metadata": {},
          "execution_count": 1097
        }
      ],
      "source": [
        "# Load the test data\n",
        "#test_data = pd.read_csv('https://archive.ics.uci.edu/ml/machine-learning-databases/adult/adult.test', skiprows=1, header=None)\n",
        "\n",
        "test_data = pd.read_csv('adult.test.csv')\n",
        "\n",
        "# Preprocess the test data\n",
        "attrib, counts = np.unique(test_data['workclass'], return_counts = True)\n",
        "most_freq_attrib = attrib[np.argmax(counts, axis = 0)]\n",
        "test_data['workclass'][test_data['workclass'] == '?'] = most_freq_attrib \n",
        "\n",
        "attrib, counts = np.unique(test_data['occupation'], return_counts = True)\n",
        "most_freq_attrib = attrib[np.argmax(counts, axis = 0)]\n",
        "test_data['occupation'][test_data['occupation'] == '?'] = most_freq_attrib \n",
        "\n",
        "attrib, counts = np.unique(test_data['native-country'], return_counts = True)\n",
        "most_freq_attrib = attrib[np.argmax(counts, axis = 0)]\n",
        "test_data['native-country'][test_data['native-country'] == '?'] = most_freq_attrib \n",
        "#test_data = test_data.reset_index(drop=True)\n",
        "test_data.columns = ['age', 'workclass', 'fnlwgt', 'education', 'education-num', 'marital-status', 'occupation', 'relationship', 'race', 'sex', 'capital-gain', 'capital-loss', 'hours-per-week', 'native-country', 'income']\n",
        "\n",
        "test_data['income'] = test_data['income'].apply(lambda x: 1 if '>50K' in x else 0)\n",
        "\n",
        "test_data.drop(['education-num'], axis = 1, inplace = True)\n",
        "#test_data.drop(['fnlwgt'], axis = 1, inplace = True)\n",
        "\n",
        "categorical = ['workclass','education', 'marital-status', 'occupation', 'relationship',\n",
        "               'race', 'sex','native-country']\n",
        "label_encoder = LabelEncoder()\n",
        "for col in categorical:\n",
        "    label_encoder.fit(test_data[col])\n",
        "    test_data[col] = label_encoder.transform(test_data[col])\n",
        "\n",
        "# Extract the features from the test data\n",
        "X_test = test_data.values\n",
        "# Load the learned theta parameters\n",
        "theta = np.load('theta.npy')\n",
        "\n",
        "# Make predictions on the test data\n",
        "def predict(theta, X):\n",
        "    # Compute the dot product between X and theta\n",
        "    dot_product = np.dot(X, theta)\n",
        "    \n",
        "    # Apply the sigmoid function to the dot product\n",
        "    y_pred = 1 / (1 + np.exp(-dot_product))\n",
        "    \n",
        "    # Round the predicted probabilities to 0 or 1\n",
        "    y_pred_rounded = np.round(y_pred)\n",
        "    \n",
        "    return y_pred_rounded.astype(int)\n",
        "\n",
        "y_pred = predict(theta, X_test)\n",
        "print(\"Accuracy (Maximum Likelihood Estimation):\")\n",
        "f2 = pd.DataFrame(y_pred).join(y)\n",
        "f2.loc[f2[0]==f2['income']].shape[0] / f2.shape[0] * 100\n"
      ]
    }
  ],
  "metadata": {
    "colab": {
      "provenance": []
    },
    "kernelspec": {
      "display_name": "Python 3",
      "name": "python3"
    },
    "language_info": {
      "name": "python"
    }
  },
  "nbformat": 4,
  "nbformat_minor": 0
}